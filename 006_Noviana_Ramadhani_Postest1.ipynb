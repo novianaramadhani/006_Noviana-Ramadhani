{
  "nbformat": 4,
  "nbformat_minor": 0,
  "metadata": {
    "colab": {
      "provenance": [],
      "include_colab_link": true
    },
    "kernelspec": {
      "name": "python3",
      "display_name": "Python 3"
    },
    "language_info": {
      "name": "python"
    }
  },
  "cells": [
    {
      "cell_type": "markdown",
      "metadata": {
        "id": "view-in-github",
        "colab_type": "text"
      },
      "source": [
        "<a href=\"https://colab.research.google.com/github/novianaramadhani/006_Noviana-Ramadhani/blob/main/006_Noviana_Ramadhani_Postest1.ipynb\" target=\"_parent\"><img src=\"https://colab.research.google.com/assets/colab-badge.svg\" alt=\"Open In Colab\"/></a>"
      ]
    },
    {
      "cell_type": "markdown",
      "source": [
        "<h1>Posttest Praktikum Sistem Informasi </h1>\n",
        "\n",
        "NIM **2109116006**\n",
        "\n",
        "NAMA **Noviana Ramadhani**\n",
        "\n",
        "KELAS **SI A 21**\n",
        "\n",
        "\n",
        "\n",
        "\n",
        "\n",
        "\n",
        "\n",
        "\n"
      ],
      "metadata": {
        "id": "W-uS6_66tbij"
      }
    },
    {
      "cell_type": "markdown",
      "source": [
        "## Business Understanding & Data Understanding"
      ],
      "metadata": {
        "id": "m2edIZ4Rzj_Y"
      }
    },
    {
      "cell_type": "markdown",
      "source": [
        "Importlah pandas, seaborn, dan plotly\n",
        "\n",
        "Download dataset dari link ini [**Link Dataset**](https://github.com/fnikolas-r/Data-Mining-Course/blob/main/Pertemuan%202/ChurnBank.csv)\n",
        "\n",
        "\n",
        "\n",
        "\n",
        "Kemudian taruhlah dalam sebuah variabel bernama df\n",
        "\n",
        "\n",
        "*note: kalian dapat menambah blok yang ada*"
      ],
      "metadata": {
        "id": "wxyi84yY7Lla"
      }
    },
    {
      "cell_type": "code",
      "execution_count": 3,
      "metadata": {
        "id": "gxbjtLI5s8pn",
        "colab": {
          "base_uri": "https://localhost:8080/",
          "height": 720
        },
        "outputId": "86a5702f-e1d0-4aab-f099-8ecf69a9bf0b"
      },
      "outputs": [
        {
          "output_type": "execute_result",
          "data": {
            "text/plain": [
              "    Unnamed: 0  CLIENTNUM     Attrition_Flag  Customer_Age Gender  \\\n",
              "0         6036  720010608  Attrited Customer            37      M   \n",
              "1         6684  711323283  Attrited Customer            57      M   \n",
              "2         4272  794707083  Attrited Customer            50      M   \n",
              "3         9759  709657533  Attrited Customer            44      M   \n",
              "4         4740  716625033  Attrited Customer            32      F   \n",
              "5         9597  715076358  Attrited Customer            57      M   \n",
              "6         5009  804829533  Attrited Customer            59      M   \n",
              "7         8200  712144158  Attrited Customer            53      F   \n",
              "8         5016  795599883  Attrited Customer            57      F   \n",
              "9         8350  709222008  Attrited Customer            41      M   \n",
              "10        8139  809844108  Existing Customer            48      M   \n",
              "11         176  716264358  Existing Customer            53      M   \n",
              "12        8020  778163508  Existing Customer            37      F   \n",
              "13         357  711857733  Existing Customer            49      M   \n",
              "14        6562  720070383  Existing Customer            41      F   \n",
              "15        4563  809809008  Existing Customer            47      F   \n",
              "16       10084  718161708  Existing Customer            46      F   \n",
              "17        5725  771079833  Existing Customer            40      F   \n",
              "18        2587  711639708  Existing Customer            42      M   \n",
              "19        8226  713700258  Existing Customer            55      F   \n",
              "\n",
              "   Education_Level Marital_Status Income_Category Card_Category  Credit_Limit  \n",
              "0          Unknown         Single     $40K - $60K          Blue       10226.0  \n",
              "1       Uneducated        Married     $60K - $80K          Blue        2527.0  \n",
              "2          College         Single    $80K - $120K          Blue        3495.0  \n",
              "3      High School        Unknown         $120K +          Blue        7793.0  \n",
              "4         Graduate         Single  Less than $40K          Blue        2761.0  \n",
              "5    Post-Graduate        Unknown    $80K - $120K          Blue       23714.0  \n",
              "6      High School         Single     $60K - $80K          Blue       24621.0  \n",
              "7         Graduate         Single  Less than $40K          Blue        2370.0  \n",
              "8       Uneducated        Married         Unknown          Blue        2404.0  \n",
              "9          Unknown         Single    $80K - $120K          Blue        4742.0  \n",
              "10       Doctorate         Single     $60K - $80K          Blue        8086.0  \n",
              "11      Uneducated        Married    $80K - $120K          Blue       26792.0  \n",
              "12     High School        Married         Unknown          Blue        5245.0  \n",
              "13      Uneducated         Single     $60K - $80K          Blue       18584.0  \n",
              "14      Uneducated         Single         Unknown          Blue        2429.0  \n",
              "15        Graduate        Married  Less than $40K          Blue        3111.0  \n",
              "16        Graduate        Married  Less than $40K          Blue        7562.0  \n",
              "17     High School         Single  Less than $40K          Blue        1438.3  \n",
              "18        Graduate         Single     $60K - $80K          Blue        1438.3  \n",
              "19   Post-Graduate        Married         Unknown          Blue        2953.0  "
            ],
            "text/html": [
              "\n",
              "  <div id=\"df-fc9678f5-ffd7-4290-98d0-80132590fc58\">\n",
              "    <div class=\"colab-df-container\">\n",
              "      <div>\n",
              "<style scoped>\n",
              "    .dataframe tbody tr th:only-of-type {\n",
              "        vertical-align: middle;\n",
              "    }\n",
              "\n",
              "    .dataframe tbody tr th {\n",
              "        vertical-align: top;\n",
              "    }\n",
              "\n",
              "    .dataframe thead th {\n",
              "        text-align: right;\n",
              "    }\n",
              "</style>\n",
              "<table border=\"1\" class=\"dataframe\">\n",
              "  <thead>\n",
              "    <tr style=\"text-align: right;\">\n",
              "      <th></th>\n",
              "      <th>Unnamed: 0</th>\n",
              "      <th>CLIENTNUM</th>\n",
              "      <th>Attrition_Flag</th>\n",
              "      <th>Customer_Age</th>\n",
              "      <th>Gender</th>\n",
              "      <th>Education_Level</th>\n",
              "      <th>Marital_Status</th>\n",
              "      <th>Income_Category</th>\n",
              "      <th>Card_Category</th>\n",
              "      <th>Credit_Limit</th>\n",
              "    </tr>\n",
              "  </thead>\n",
              "  <tbody>\n",
              "    <tr>\n",
              "      <th>0</th>\n",
              "      <td>6036</td>\n",
              "      <td>720010608</td>\n",
              "      <td>Attrited Customer</td>\n",
              "      <td>37</td>\n",
              "      <td>M</td>\n",
              "      <td>Unknown</td>\n",
              "      <td>Single</td>\n",
              "      <td>$40K - $60K</td>\n",
              "      <td>Blue</td>\n",
              "      <td>10226.0</td>\n",
              "    </tr>\n",
              "    <tr>\n",
              "      <th>1</th>\n",
              "      <td>6684</td>\n",
              "      <td>711323283</td>\n",
              "      <td>Attrited Customer</td>\n",
              "      <td>57</td>\n",
              "      <td>M</td>\n",
              "      <td>Uneducated</td>\n",
              "      <td>Married</td>\n",
              "      <td>$60K - $80K</td>\n",
              "      <td>Blue</td>\n",
              "      <td>2527.0</td>\n",
              "    </tr>\n",
              "    <tr>\n",
              "      <th>2</th>\n",
              "      <td>4272</td>\n",
              "      <td>794707083</td>\n",
              "      <td>Attrited Customer</td>\n",
              "      <td>50</td>\n",
              "      <td>M</td>\n",
              "      <td>College</td>\n",
              "      <td>Single</td>\n",
              "      <td>$80K - $120K</td>\n",
              "      <td>Blue</td>\n",
              "      <td>3495.0</td>\n",
              "    </tr>\n",
              "    <tr>\n",
              "      <th>3</th>\n",
              "      <td>9759</td>\n",
              "      <td>709657533</td>\n",
              "      <td>Attrited Customer</td>\n",
              "      <td>44</td>\n",
              "      <td>M</td>\n",
              "      <td>High School</td>\n",
              "      <td>Unknown</td>\n",
              "      <td>$120K +</td>\n",
              "      <td>Blue</td>\n",
              "      <td>7793.0</td>\n",
              "    </tr>\n",
              "    <tr>\n",
              "      <th>4</th>\n",
              "      <td>4740</td>\n",
              "      <td>716625033</td>\n",
              "      <td>Attrited Customer</td>\n",
              "      <td>32</td>\n",
              "      <td>F</td>\n",
              "      <td>Graduate</td>\n",
              "      <td>Single</td>\n",
              "      <td>Less than $40K</td>\n",
              "      <td>Blue</td>\n",
              "      <td>2761.0</td>\n",
              "    </tr>\n",
              "    <tr>\n",
              "      <th>5</th>\n",
              "      <td>9597</td>\n",
              "      <td>715076358</td>\n",
              "      <td>Attrited Customer</td>\n",
              "      <td>57</td>\n",
              "      <td>M</td>\n",
              "      <td>Post-Graduate</td>\n",
              "      <td>Unknown</td>\n",
              "      <td>$80K - $120K</td>\n",
              "      <td>Blue</td>\n",
              "      <td>23714.0</td>\n",
              "    </tr>\n",
              "    <tr>\n",
              "      <th>6</th>\n",
              "      <td>5009</td>\n",
              "      <td>804829533</td>\n",
              "      <td>Attrited Customer</td>\n",
              "      <td>59</td>\n",
              "      <td>M</td>\n",
              "      <td>High School</td>\n",
              "      <td>Single</td>\n",
              "      <td>$60K - $80K</td>\n",
              "      <td>Blue</td>\n",
              "      <td>24621.0</td>\n",
              "    </tr>\n",
              "    <tr>\n",
              "      <th>7</th>\n",
              "      <td>8200</td>\n",
              "      <td>712144158</td>\n",
              "      <td>Attrited Customer</td>\n",
              "      <td>53</td>\n",
              "      <td>F</td>\n",
              "      <td>Graduate</td>\n",
              "      <td>Single</td>\n",
              "      <td>Less than $40K</td>\n",
              "      <td>Blue</td>\n",
              "      <td>2370.0</td>\n",
              "    </tr>\n",
              "    <tr>\n",
              "      <th>8</th>\n",
              "      <td>5016</td>\n",
              "      <td>795599883</td>\n",
              "      <td>Attrited Customer</td>\n",
              "      <td>57</td>\n",
              "      <td>F</td>\n",
              "      <td>Uneducated</td>\n",
              "      <td>Married</td>\n",
              "      <td>Unknown</td>\n",
              "      <td>Blue</td>\n",
              "      <td>2404.0</td>\n",
              "    </tr>\n",
              "    <tr>\n",
              "      <th>9</th>\n",
              "      <td>8350</td>\n",
              "      <td>709222008</td>\n",
              "      <td>Attrited Customer</td>\n",
              "      <td>41</td>\n",
              "      <td>M</td>\n",
              "      <td>Unknown</td>\n",
              "      <td>Single</td>\n",
              "      <td>$80K - $120K</td>\n",
              "      <td>Blue</td>\n",
              "      <td>4742.0</td>\n",
              "    </tr>\n",
              "    <tr>\n",
              "      <th>10</th>\n",
              "      <td>8139</td>\n",
              "      <td>809844108</td>\n",
              "      <td>Existing Customer</td>\n",
              "      <td>48</td>\n",
              "      <td>M</td>\n",
              "      <td>Doctorate</td>\n",
              "      <td>Single</td>\n",
              "      <td>$60K - $80K</td>\n",
              "      <td>Blue</td>\n",
              "      <td>8086.0</td>\n",
              "    </tr>\n",
              "    <tr>\n",
              "      <th>11</th>\n",
              "      <td>176</td>\n",
              "      <td>716264358</td>\n",
              "      <td>Existing Customer</td>\n",
              "      <td>53</td>\n",
              "      <td>M</td>\n",
              "      <td>Uneducated</td>\n",
              "      <td>Married</td>\n",
              "      <td>$80K - $120K</td>\n",
              "      <td>Blue</td>\n",
              "      <td>26792.0</td>\n",
              "    </tr>\n",
              "    <tr>\n",
              "      <th>12</th>\n",
              "      <td>8020</td>\n",
              "      <td>778163508</td>\n",
              "      <td>Existing Customer</td>\n",
              "      <td>37</td>\n",
              "      <td>F</td>\n",
              "      <td>High School</td>\n",
              "      <td>Married</td>\n",
              "      <td>Unknown</td>\n",
              "      <td>Blue</td>\n",
              "      <td>5245.0</td>\n",
              "    </tr>\n",
              "    <tr>\n",
              "      <th>13</th>\n",
              "      <td>357</td>\n",
              "      <td>711857733</td>\n",
              "      <td>Existing Customer</td>\n",
              "      <td>49</td>\n",
              "      <td>M</td>\n",
              "      <td>Uneducated</td>\n",
              "      <td>Single</td>\n",
              "      <td>$60K - $80K</td>\n",
              "      <td>Blue</td>\n",
              "      <td>18584.0</td>\n",
              "    </tr>\n",
              "    <tr>\n",
              "      <th>14</th>\n",
              "      <td>6562</td>\n",
              "      <td>720070383</td>\n",
              "      <td>Existing Customer</td>\n",
              "      <td>41</td>\n",
              "      <td>F</td>\n",
              "      <td>Uneducated</td>\n",
              "      <td>Single</td>\n",
              "      <td>Unknown</td>\n",
              "      <td>Blue</td>\n",
              "      <td>2429.0</td>\n",
              "    </tr>\n",
              "    <tr>\n",
              "      <th>15</th>\n",
              "      <td>4563</td>\n",
              "      <td>809809008</td>\n",
              "      <td>Existing Customer</td>\n",
              "      <td>47</td>\n",
              "      <td>F</td>\n",
              "      <td>Graduate</td>\n",
              "      <td>Married</td>\n",
              "      <td>Less than $40K</td>\n",
              "      <td>Blue</td>\n",
              "      <td>3111.0</td>\n",
              "    </tr>\n",
              "    <tr>\n",
              "      <th>16</th>\n",
              "      <td>10084</td>\n",
              "      <td>718161708</td>\n",
              "      <td>Existing Customer</td>\n",
              "      <td>46</td>\n",
              "      <td>F</td>\n",
              "      <td>Graduate</td>\n",
              "      <td>Married</td>\n",
              "      <td>Less than $40K</td>\n",
              "      <td>Blue</td>\n",
              "      <td>7562.0</td>\n",
              "    </tr>\n",
              "    <tr>\n",
              "      <th>17</th>\n",
              "      <td>5725</td>\n",
              "      <td>771079833</td>\n",
              "      <td>Existing Customer</td>\n",
              "      <td>40</td>\n",
              "      <td>F</td>\n",
              "      <td>High School</td>\n",
              "      <td>Single</td>\n",
              "      <td>Less than $40K</td>\n",
              "      <td>Blue</td>\n",
              "      <td>1438.3</td>\n",
              "    </tr>\n",
              "    <tr>\n",
              "      <th>18</th>\n",
              "      <td>2587</td>\n",
              "      <td>711639708</td>\n",
              "      <td>Existing Customer</td>\n",
              "      <td>42</td>\n",
              "      <td>M</td>\n",
              "      <td>Graduate</td>\n",
              "      <td>Single</td>\n",
              "      <td>$60K - $80K</td>\n",
              "      <td>Blue</td>\n",
              "      <td>1438.3</td>\n",
              "    </tr>\n",
              "    <tr>\n",
              "      <th>19</th>\n",
              "      <td>8226</td>\n",
              "      <td>713700258</td>\n",
              "      <td>Existing Customer</td>\n",
              "      <td>55</td>\n",
              "      <td>F</td>\n",
              "      <td>Post-Graduate</td>\n",
              "      <td>Married</td>\n",
              "      <td>Unknown</td>\n",
              "      <td>Blue</td>\n",
              "      <td>2953.0</td>\n",
              "    </tr>\n",
              "  </tbody>\n",
              "</table>\n",
              "</div>\n",
              "      <button class=\"colab-df-convert\" onclick=\"convertToInteractive('df-fc9678f5-ffd7-4290-98d0-80132590fc58')\"\n",
              "              title=\"Convert this dataframe to an interactive table.\"\n",
              "              style=\"display:none;\">\n",
              "        \n",
              "  <svg xmlns=\"http://www.w3.org/2000/svg\" height=\"24px\"viewBox=\"0 0 24 24\"\n",
              "       width=\"24px\">\n",
              "    <path d=\"M0 0h24v24H0V0z\" fill=\"none\"/>\n",
              "    <path d=\"M18.56 5.44l.94 2.06.94-2.06 2.06-.94-2.06-.94-.94-2.06-.94 2.06-2.06.94zm-11 1L8.5 8.5l.94-2.06 2.06-.94-2.06-.94L8.5 2.5l-.94 2.06-2.06.94zm10 10l.94 2.06.94-2.06 2.06-.94-2.06-.94-.94-2.06-.94 2.06-2.06.94z\"/><path d=\"M17.41 7.96l-1.37-1.37c-.4-.4-.92-.59-1.43-.59-.52 0-1.04.2-1.43.59L10.3 9.45l-7.72 7.72c-.78.78-.78 2.05 0 2.83L4 21.41c.39.39.9.59 1.41.59.51 0 1.02-.2 1.41-.59l7.78-7.78 2.81-2.81c.8-.78.8-2.07 0-2.86zM5.41 20L4 18.59l7.72-7.72 1.47 1.35L5.41 20z\"/>\n",
              "  </svg>\n",
              "      </button>\n",
              "      \n",
              "  <style>\n",
              "    .colab-df-container {\n",
              "      display:flex;\n",
              "      flex-wrap:wrap;\n",
              "      gap: 12px;\n",
              "    }\n",
              "\n",
              "    .colab-df-convert {\n",
              "      background-color: #E8F0FE;\n",
              "      border: none;\n",
              "      border-radius: 50%;\n",
              "      cursor: pointer;\n",
              "      display: none;\n",
              "      fill: #1967D2;\n",
              "      height: 32px;\n",
              "      padding: 0 0 0 0;\n",
              "      width: 32px;\n",
              "    }\n",
              "\n",
              "    .colab-df-convert:hover {\n",
              "      background-color: #E2EBFA;\n",
              "      box-shadow: 0px 1px 2px rgba(60, 64, 67, 0.3), 0px 1px 3px 1px rgba(60, 64, 67, 0.15);\n",
              "      fill: #174EA6;\n",
              "    }\n",
              "\n",
              "    [theme=dark] .colab-df-convert {\n",
              "      background-color: #3B4455;\n",
              "      fill: #D2E3FC;\n",
              "    }\n",
              "\n",
              "    [theme=dark] .colab-df-convert:hover {\n",
              "      background-color: #434B5C;\n",
              "      box-shadow: 0px 1px 3px 1px rgba(0, 0, 0, 0.15);\n",
              "      filter: drop-shadow(0px 1px 2px rgba(0, 0, 0, 0.3));\n",
              "      fill: #FFFFFF;\n",
              "    }\n",
              "  </style>\n",
              "\n",
              "      <script>\n",
              "        const buttonEl =\n",
              "          document.querySelector('#df-fc9678f5-ffd7-4290-98d0-80132590fc58 button.colab-df-convert');\n",
              "        buttonEl.style.display =\n",
              "          google.colab.kernel.accessAllowed ? 'block' : 'none';\n",
              "\n",
              "        async function convertToInteractive(key) {\n",
              "          const element = document.querySelector('#df-fc9678f5-ffd7-4290-98d0-80132590fc58');\n",
              "          const dataTable =\n",
              "            await google.colab.kernel.invokeFunction('convertToInteractive',\n",
              "                                                     [key], {});\n",
              "          if (!dataTable) return;\n",
              "\n",
              "          const docLinkHtml = 'Like what you see? Visit the ' +\n",
              "            '<a target=\"_blank\" href=https://colab.research.google.com/notebooks/data_table.ipynb>data table notebook</a>'\n",
              "            + ' to learn more about interactive tables.';\n",
              "          element.innerHTML = '';\n",
              "          dataTable['output_type'] = 'display_data';\n",
              "          await google.colab.output.renderOutput(dataTable, element);\n",
              "          const docLink = document.createElement('div');\n",
              "          docLink.innerHTML = docLinkHtml;\n",
              "          element.appendChild(docLink);\n",
              "        }\n",
              "      </script>\n",
              "    </div>\n",
              "  </div>\n",
              "  "
            ]
          },
          "metadata": {},
          "execution_count": 3
        }
      ],
      "source": [
        "## Import Library \n",
        "import pandas as pd\n",
        "import seaborn as sns\n",
        "import plotly.express as px\n",
        "\n",
        "#Membaca Dataset\n",
        "df = pd.read_csv(\"ChurnBank.csv\")\n",
        "df"
      ]
    },
    {
      "cell_type": "markdown",
      "source": [
        "### Business Understanding\n",
        "\n",
        "\n",
        "🔑🍉🍊🍅**Tujuan Penggunaan Dataset**🎉🎀🍊\n",
        "\n",
        "*   Dataset digunakan untuk menyimpan informasi yang dibutuhkan\n",
        "*   Dataset juga merupakan kumpulan data yang bersifat sebagai himpunan data yang berasal dari informasi-informasi pada masa sebelumnya dan siap untuk dikelola menjadi sebuah informasi baru.\n",
        "\n",
        "Dengan dataset yang ada bertujuan untuk dapat menghitung klasifikasi data dari nasabah yang ada dengan menggunakan algoritma Naive Bayes.\n",
        "\n",
        "🧏‍♂️✨🎊**Tujuan Perusahaan**🎉🎀🍊🍅\n",
        "\n",
        "Misalnya pada sebuah perusahaan pada bidang bpjs yang memiliki tujuan dalam  pelayanan fasilitas kesehatan yaitu memberikan jaminan kesehatan kepada ketenagakerjaan yang tepat sesuai dengan kriteria, karena pada bpjs terdapat pembagian kelas,contoh kelas 1 bpjs akan membayar iuran Rp.150.000 per orang,Jadi untuk mempermudah bisa  dengan menggunakan algoritma Naive Bayes untuk memprediksi data.\n",
        "\n",
        "🍉🍊**Tujuan Penggunaan Naive Bayes**💁‍♂️🎉🎀\n",
        "\n",
        "Tujuan dari penggunaan algoritma naive bayes dalam perusahaan adalah untuk memprediksi data per orang dengan tepat. Dengan menggunakan naive bayes hasil yang didapatkan akan lebih akurat sehingga perusahaan mampu mempertimbangkan kelas bpjs kepada nasabah dengan tepat sasaran."
      ],
      "metadata": {
        "id": "4zonMQ5M9OxL"
      }
    },
    {
      "cell_type": "markdown",
      "source": [
        "### Data Understanding"
      ],
      "metadata": {
        "id": "Uj2U1K8y-A2J"
      }
    },
    {
      "cell_type": "code",
      "source": [
        "# Dari dataset diatas buatlah dua variabel yang berisi\n",
        "# df1 isinya dataset dengan label target AttiredCustomer\n",
        "# df2 dengan label bukan Attrired customer\n",
        "# df3 dengan tabel untuk usia dibawah 50 tahun\n",
        "# df4 untuk customer yang statusnya itu single\n",
        "\n",
        "df1= df[df['Attrition_Flag']==('Attrited Customer')]\n",
        "df1"
      ],
      "metadata": {
        "id": "fOe_dNgC7ZVp",
        "colab": {
          "base_uri": "https://localhost:8080/",
          "height": 363
        },
        "outputId": "c84407ae-0431-4ad7-c4d9-930bc8ffb74e"
      },
      "execution_count": null,
      "outputs": [
        {
          "output_type": "execute_result",
          "data": {
            "text/plain": [
              "   Unnamed: 0  CLIENTNUM     Attrition_Flag  Customer_Age Gender  \\\n",
              "0        6036  720010608  Attrited Customer            37      M   \n",
              "1        6684  711323283  Attrited Customer            57      M   \n",
              "2        4272  794707083  Attrited Customer            50      M   \n",
              "3        9759  709657533  Attrited Customer            44      M   \n",
              "4        4740  716625033  Attrited Customer            32      F   \n",
              "5        9597  715076358  Attrited Customer            57      M   \n",
              "6        5009  804829533  Attrited Customer            59      M   \n",
              "7        8200  712144158  Attrited Customer            53      F   \n",
              "8        5016  795599883  Attrited Customer            57      F   \n",
              "9        8350  709222008  Attrited Customer            41      M   \n",
              "\n",
              "  Education_Level Marital_Status Income_Category Card_Category  Credit_Limit  \n",
              "0         Unknown         Single     $40K - $60K          Blue       10226.0  \n",
              "1      Uneducated        Married     $60K - $80K          Blue        2527.0  \n",
              "2         College         Single    $80K - $120K          Blue        3495.0  \n",
              "3     High School        Unknown         $120K +          Blue        7793.0  \n",
              "4        Graduate         Single  Less than $40K          Blue        2761.0  \n",
              "5   Post-Graduate        Unknown    $80K - $120K          Blue       23714.0  \n",
              "6     High School         Single     $60K - $80K          Blue       24621.0  \n",
              "7        Graduate         Single  Less than $40K          Blue        2370.0  \n",
              "8      Uneducated        Married         Unknown          Blue        2404.0  \n",
              "9         Unknown         Single    $80K - $120K          Blue        4742.0  "
            ],
            "text/html": [
              "\n",
              "  <div id=\"df-57f4f96c-fe78-4c0f-b404-f83e357152b1\">\n",
              "    <div class=\"colab-df-container\">\n",
              "      <div>\n",
              "<style scoped>\n",
              "    .dataframe tbody tr th:only-of-type {\n",
              "        vertical-align: middle;\n",
              "    }\n",
              "\n",
              "    .dataframe tbody tr th {\n",
              "        vertical-align: top;\n",
              "    }\n",
              "\n",
              "    .dataframe thead th {\n",
              "        text-align: right;\n",
              "    }\n",
              "</style>\n",
              "<table border=\"1\" class=\"dataframe\">\n",
              "  <thead>\n",
              "    <tr style=\"text-align: right;\">\n",
              "      <th></th>\n",
              "      <th>Unnamed: 0</th>\n",
              "      <th>CLIENTNUM</th>\n",
              "      <th>Attrition_Flag</th>\n",
              "      <th>Customer_Age</th>\n",
              "      <th>Gender</th>\n",
              "      <th>Education_Level</th>\n",
              "      <th>Marital_Status</th>\n",
              "      <th>Income_Category</th>\n",
              "      <th>Card_Category</th>\n",
              "      <th>Credit_Limit</th>\n",
              "    </tr>\n",
              "  </thead>\n",
              "  <tbody>\n",
              "    <tr>\n",
              "      <th>0</th>\n",
              "      <td>6036</td>\n",
              "      <td>720010608</td>\n",
              "      <td>Attrited Customer</td>\n",
              "      <td>37</td>\n",
              "      <td>M</td>\n",
              "      <td>Unknown</td>\n",
              "      <td>Single</td>\n",
              "      <td>$40K - $60K</td>\n",
              "      <td>Blue</td>\n",
              "      <td>10226.0</td>\n",
              "    </tr>\n",
              "    <tr>\n",
              "      <th>1</th>\n",
              "      <td>6684</td>\n",
              "      <td>711323283</td>\n",
              "      <td>Attrited Customer</td>\n",
              "      <td>57</td>\n",
              "      <td>M</td>\n",
              "      <td>Uneducated</td>\n",
              "      <td>Married</td>\n",
              "      <td>$60K - $80K</td>\n",
              "      <td>Blue</td>\n",
              "      <td>2527.0</td>\n",
              "    </tr>\n",
              "    <tr>\n",
              "      <th>2</th>\n",
              "      <td>4272</td>\n",
              "      <td>794707083</td>\n",
              "      <td>Attrited Customer</td>\n",
              "      <td>50</td>\n",
              "      <td>M</td>\n",
              "      <td>College</td>\n",
              "      <td>Single</td>\n",
              "      <td>$80K - $120K</td>\n",
              "      <td>Blue</td>\n",
              "      <td>3495.0</td>\n",
              "    </tr>\n",
              "    <tr>\n",
              "      <th>3</th>\n",
              "      <td>9759</td>\n",
              "      <td>709657533</td>\n",
              "      <td>Attrited Customer</td>\n",
              "      <td>44</td>\n",
              "      <td>M</td>\n",
              "      <td>High School</td>\n",
              "      <td>Unknown</td>\n",
              "      <td>$120K +</td>\n",
              "      <td>Blue</td>\n",
              "      <td>7793.0</td>\n",
              "    </tr>\n",
              "    <tr>\n",
              "      <th>4</th>\n",
              "      <td>4740</td>\n",
              "      <td>716625033</td>\n",
              "      <td>Attrited Customer</td>\n",
              "      <td>32</td>\n",
              "      <td>F</td>\n",
              "      <td>Graduate</td>\n",
              "      <td>Single</td>\n",
              "      <td>Less than $40K</td>\n",
              "      <td>Blue</td>\n",
              "      <td>2761.0</td>\n",
              "    </tr>\n",
              "    <tr>\n",
              "      <th>5</th>\n",
              "      <td>9597</td>\n",
              "      <td>715076358</td>\n",
              "      <td>Attrited Customer</td>\n",
              "      <td>57</td>\n",
              "      <td>M</td>\n",
              "      <td>Post-Graduate</td>\n",
              "      <td>Unknown</td>\n",
              "      <td>$80K - $120K</td>\n",
              "      <td>Blue</td>\n",
              "      <td>23714.0</td>\n",
              "    </tr>\n",
              "    <tr>\n",
              "      <th>6</th>\n",
              "      <td>5009</td>\n",
              "      <td>804829533</td>\n",
              "      <td>Attrited Customer</td>\n",
              "      <td>59</td>\n",
              "      <td>M</td>\n",
              "      <td>High School</td>\n",
              "      <td>Single</td>\n",
              "      <td>$60K - $80K</td>\n",
              "      <td>Blue</td>\n",
              "      <td>24621.0</td>\n",
              "    </tr>\n",
              "    <tr>\n",
              "      <th>7</th>\n",
              "      <td>8200</td>\n",
              "      <td>712144158</td>\n",
              "      <td>Attrited Customer</td>\n",
              "      <td>53</td>\n",
              "      <td>F</td>\n",
              "      <td>Graduate</td>\n",
              "      <td>Single</td>\n",
              "      <td>Less than $40K</td>\n",
              "      <td>Blue</td>\n",
              "      <td>2370.0</td>\n",
              "    </tr>\n",
              "    <tr>\n",
              "      <th>8</th>\n",
              "      <td>5016</td>\n",
              "      <td>795599883</td>\n",
              "      <td>Attrited Customer</td>\n",
              "      <td>57</td>\n",
              "      <td>F</td>\n",
              "      <td>Uneducated</td>\n",
              "      <td>Married</td>\n",
              "      <td>Unknown</td>\n",
              "      <td>Blue</td>\n",
              "      <td>2404.0</td>\n",
              "    </tr>\n",
              "    <tr>\n",
              "      <th>9</th>\n",
              "      <td>8350</td>\n",
              "      <td>709222008</td>\n",
              "      <td>Attrited Customer</td>\n",
              "      <td>41</td>\n",
              "      <td>M</td>\n",
              "      <td>Unknown</td>\n",
              "      <td>Single</td>\n",
              "      <td>$80K - $120K</td>\n",
              "      <td>Blue</td>\n",
              "      <td>4742.0</td>\n",
              "    </tr>\n",
              "  </tbody>\n",
              "</table>\n",
              "</div>\n",
              "      <button class=\"colab-df-convert\" onclick=\"convertToInteractive('df-57f4f96c-fe78-4c0f-b404-f83e357152b1')\"\n",
              "              title=\"Convert this dataframe to an interactive table.\"\n",
              "              style=\"display:none;\">\n",
              "        \n",
              "  <svg xmlns=\"http://www.w3.org/2000/svg\" height=\"24px\"viewBox=\"0 0 24 24\"\n",
              "       width=\"24px\">\n",
              "    <path d=\"M0 0h24v24H0V0z\" fill=\"none\"/>\n",
              "    <path d=\"M18.56 5.44l.94 2.06.94-2.06 2.06-.94-2.06-.94-.94-2.06-.94 2.06-2.06.94zm-11 1L8.5 8.5l.94-2.06 2.06-.94-2.06-.94L8.5 2.5l-.94 2.06-2.06.94zm10 10l.94 2.06.94-2.06 2.06-.94-2.06-.94-.94-2.06-.94 2.06-2.06.94z\"/><path d=\"M17.41 7.96l-1.37-1.37c-.4-.4-.92-.59-1.43-.59-.52 0-1.04.2-1.43.59L10.3 9.45l-7.72 7.72c-.78.78-.78 2.05 0 2.83L4 21.41c.39.39.9.59 1.41.59.51 0 1.02-.2 1.41-.59l7.78-7.78 2.81-2.81c.8-.78.8-2.07 0-2.86zM5.41 20L4 18.59l7.72-7.72 1.47 1.35L5.41 20z\"/>\n",
              "  </svg>\n",
              "      </button>\n",
              "      \n",
              "  <style>\n",
              "    .colab-df-container {\n",
              "      display:flex;\n",
              "      flex-wrap:wrap;\n",
              "      gap: 12px;\n",
              "    }\n",
              "\n",
              "    .colab-df-convert {\n",
              "      background-color: #E8F0FE;\n",
              "      border: none;\n",
              "      border-radius: 50%;\n",
              "      cursor: pointer;\n",
              "      display: none;\n",
              "      fill: #1967D2;\n",
              "      height: 32px;\n",
              "      padding: 0 0 0 0;\n",
              "      width: 32px;\n",
              "    }\n",
              "\n",
              "    .colab-df-convert:hover {\n",
              "      background-color: #E2EBFA;\n",
              "      box-shadow: 0px 1px 2px rgba(60, 64, 67, 0.3), 0px 1px 3px 1px rgba(60, 64, 67, 0.15);\n",
              "      fill: #174EA6;\n",
              "    }\n",
              "\n",
              "    [theme=dark] .colab-df-convert {\n",
              "      background-color: #3B4455;\n",
              "      fill: #D2E3FC;\n",
              "    }\n",
              "\n",
              "    [theme=dark] .colab-df-convert:hover {\n",
              "      background-color: #434B5C;\n",
              "      box-shadow: 0px 1px 3px 1px rgba(0, 0, 0, 0.15);\n",
              "      filter: drop-shadow(0px 1px 2px rgba(0, 0, 0, 0.3));\n",
              "      fill: #FFFFFF;\n",
              "    }\n",
              "  </style>\n",
              "\n",
              "      <script>\n",
              "        const buttonEl =\n",
              "          document.querySelector('#df-57f4f96c-fe78-4c0f-b404-f83e357152b1 button.colab-df-convert');\n",
              "        buttonEl.style.display =\n",
              "          google.colab.kernel.accessAllowed ? 'block' : 'none';\n",
              "\n",
              "        async function convertToInteractive(key) {\n",
              "          const element = document.querySelector('#df-57f4f96c-fe78-4c0f-b404-f83e357152b1');\n",
              "          const dataTable =\n",
              "            await google.colab.kernel.invokeFunction('convertToInteractive',\n",
              "                                                     [key], {});\n",
              "          if (!dataTable) return;\n",
              "\n",
              "          const docLinkHtml = 'Like what you see? Visit the ' +\n",
              "            '<a target=\"_blank\" href=https://colab.research.google.com/notebooks/data_table.ipynb>data table notebook</a>'\n",
              "            + ' to learn more about interactive tables.';\n",
              "          element.innerHTML = '';\n",
              "          dataTable['output_type'] = 'display_data';\n",
              "          await google.colab.output.renderOutput(dataTable, element);\n",
              "          const docLink = document.createElement('div');\n",
              "          docLink.innerHTML = docLinkHtml;\n",
              "          element.appendChild(docLink);\n",
              "        }\n",
              "      </script>\n",
              "    </div>\n",
              "  </div>\n",
              "  "
            ]
          },
          "metadata": {},
          "execution_count": 30
        }
      ]
    },
    {
      "cell_type": "code",
      "source": [
        "df2 =df[df['Attrition_Flag'] != ('Attrited Customer')]\n",
        "df2"
      ],
      "metadata": {
        "colab": {
          "base_uri": "https://localhost:8080/",
          "height": 363
        },
        "id": "KhcJRUq0MloU",
        "outputId": "0dc742b6-4581-4176-a43d-1f9912903ce2"
      },
      "execution_count": null,
      "outputs": [
        {
          "output_type": "execute_result",
          "data": {
            "text/plain": [
              "    Unnamed: 0  CLIENTNUM     Attrition_Flag  Customer_Age Gender  \\\n",
              "10        8139  809844108  Existing Customer            48      M   \n",
              "11         176  716264358  Existing Customer            53      M   \n",
              "12        8020  778163508  Existing Customer            37      F   \n",
              "13         357  711857733  Existing Customer            49      M   \n",
              "14        6562  720070383  Existing Customer            41      F   \n",
              "15        4563  809809008  Existing Customer            47      F   \n",
              "16       10084  718161708  Existing Customer            46      F   \n",
              "17        5725  771079833  Existing Customer            40      F   \n",
              "18        2587  711639708  Existing Customer            42      M   \n",
              "19        8226  713700258  Existing Customer            55      F   \n",
              "\n",
              "   Education_Level Marital_Status Income_Category Card_Category  Credit_Limit  \n",
              "10       Doctorate         Single     $60K - $80K          Blue        8086.0  \n",
              "11      Uneducated        Married    $80K - $120K          Blue       26792.0  \n",
              "12     High School        Married         Unknown          Blue        5245.0  \n",
              "13      Uneducated         Single     $60K - $80K          Blue       18584.0  \n",
              "14      Uneducated         Single         Unknown          Blue        2429.0  \n",
              "15        Graduate        Married  Less than $40K          Blue        3111.0  \n",
              "16        Graduate        Married  Less than $40K          Blue        7562.0  \n",
              "17     High School         Single  Less than $40K          Blue        1438.3  \n",
              "18        Graduate         Single     $60K - $80K          Blue        1438.3  \n",
              "19   Post-Graduate        Married         Unknown          Blue        2953.0  "
            ],
            "text/html": [
              "\n",
              "  <div id=\"df-fb6d30c9-21e0-40e0-ae7f-df358050b0fb\">\n",
              "    <div class=\"colab-df-container\">\n",
              "      <div>\n",
              "<style scoped>\n",
              "    .dataframe tbody tr th:only-of-type {\n",
              "        vertical-align: middle;\n",
              "    }\n",
              "\n",
              "    .dataframe tbody tr th {\n",
              "        vertical-align: top;\n",
              "    }\n",
              "\n",
              "    .dataframe thead th {\n",
              "        text-align: right;\n",
              "    }\n",
              "</style>\n",
              "<table border=\"1\" class=\"dataframe\">\n",
              "  <thead>\n",
              "    <tr style=\"text-align: right;\">\n",
              "      <th></th>\n",
              "      <th>Unnamed: 0</th>\n",
              "      <th>CLIENTNUM</th>\n",
              "      <th>Attrition_Flag</th>\n",
              "      <th>Customer_Age</th>\n",
              "      <th>Gender</th>\n",
              "      <th>Education_Level</th>\n",
              "      <th>Marital_Status</th>\n",
              "      <th>Income_Category</th>\n",
              "      <th>Card_Category</th>\n",
              "      <th>Credit_Limit</th>\n",
              "    </tr>\n",
              "  </thead>\n",
              "  <tbody>\n",
              "    <tr>\n",
              "      <th>10</th>\n",
              "      <td>8139</td>\n",
              "      <td>809844108</td>\n",
              "      <td>Existing Customer</td>\n",
              "      <td>48</td>\n",
              "      <td>M</td>\n",
              "      <td>Doctorate</td>\n",
              "      <td>Single</td>\n",
              "      <td>$60K - $80K</td>\n",
              "      <td>Blue</td>\n",
              "      <td>8086.0</td>\n",
              "    </tr>\n",
              "    <tr>\n",
              "      <th>11</th>\n",
              "      <td>176</td>\n",
              "      <td>716264358</td>\n",
              "      <td>Existing Customer</td>\n",
              "      <td>53</td>\n",
              "      <td>M</td>\n",
              "      <td>Uneducated</td>\n",
              "      <td>Married</td>\n",
              "      <td>$80K - $120K</td>\n",
              "      <td>Blue</td>\n",
              "      <td>26792.0</td>\n",
              "    </tr>\n",
              "    <tr>\n",
              "      <th>12</th>\n",
              "      <td>8020</td>\n",
              "      <td>778163508</td>\n",
              "      <td>Existing Customer</td>\n",
              "      <td>37</td>\n",
              "      <td>F</td>\n",
              "      <td>High School</td>\n",
              "      <td>Married</td>\n",
              "      <td>Unknown</td>\n",
              "      <td>Blue</td>\n",
              "      <td>5245.0</td>\n",
              "    </tr>\n",
              "    <tr>\n",
              "      <th>13</th>\n",
              "      <td>357</td>\n",
              "      <td>711857733</td>\n",
              "      <td>Existing Customer</td>\n",
              "      <td>49</td>\n",
              "      <td>M</td>\n",
              "      <td>Uneducated</td>\n",
              "      <td>Single</td>\n",
              "      <td>$60K - $80K</td>\n",
              "      <td>Blue</td>\n",
              "      <td>18584.0</td>\n",
              "    </tr>\n",
              "    <tr>\n",
              "      <th>14</th>\n",
              "      <td>6562</td>\n",
              "      <td>720070383</td>\n",
              "      <td>Existing Customer</td>\n",
              "      <td>41</td>\n",
              "      <td>F</td>\n",
              "      <td>Uneducated</td>\n",
              "      <td>Single</td>\n",
              "      <td>Unknown</td>\n",
              "      <td>Blue</td>\n",
              "      <td>2429.0</td>\n",
              "    </tr>\n",
              "    <tr>\n",
              "      <th>15</th>\n",
              "      <td>4563</td>\n",
              "      <td>809809008</td>\n",
              "      <td>Existing Customer</td>\n",
              "      <td>47</td>\n",
              "      <td>F</td>\n",
              "      <td>Graduate</td>\n",
              "      <td>Married</td>\n",
              "      <td>Less than $40K</td>\n",
              "      <td>Blue</td>\n",
              "      <td>3111.0</td>\n",
              "    </tr>\n",
              "    <tr>\n",
              "      <th>16</th>\n",
              "      <td>10084</td>\n",
              "      <td>718161708</td>\n",
              "      <td>Existing Customer</td>\n",
              "      <td>46</td>\n",
              "      <td>F</td>\n",
              "      <td>Graduate</td>\n",
              "      <td>Married</td>\n",
              "      <td>Less than $40K</td>\n",
              "      <td>Blue</td>\n",
              "      <td>7562.0</td>\n",
              "    </tr>\n",
              "    <tr>\n",
              "      <th>17</th>\n",
              "      <td>5725</td>\n",
              "      <td>771079833</td>\n",
              "      <td>Existing Customer</td>\n",
              "      <td>40</td>\n",
              "      <td>F</td>\n",
              "      <td>High School</td>\n",
              "      <td>Single</td>\n",
              "      <td>Less than $40K</td>\n",
              "      <td>Blue</td>\n",
              "      <td>1438.3</td>\n",
              "    </tr>\n",
              "    <tr>\n",
              "      <th>18</th>\n",
              "      <td>2587</td>\n",
              "      <td>711639708</td>\n",
              "      <td>Existing Customer</td>\n",
              "      <td>42</td>\n",
              "      <td>M</td>\n",
              "      <td>Graduate</td>\n",
              "      <td>Single</td>\n",
              "      <td>$60K - $80K</td>\n",
              "      <td>Blue</td>\n",
              "      <td>1438.3</td>\n",
              "    </tr>\n",
              "    <tr>\n",
              "      <th>19</th>\n",
              "      <td>8226</td>\n",
              "      <td>713700258</td>\n",
              "      <td>Existing Customer</td>\n",
              "      <td>55</td>\n",
              "      <td>F</td>\n",
              "      <td>Post-Graduate</td>\n",
              "      <td>Married</td>\n",
              "      <td>Unknown</td>\n",
              "      <td>Blue</td>\n",
              "      <td>2953.0</td>\n",
              "    </tr>\n",
              "  </tbody>\n",
              "</table>\n",
              "</div>\n",
              "      <button class=\"colab-df-convert\" onclick=\"convertToInteractive('df-fb6d30c9-21e0-40e0-ae7f-df358050b0fb')\"\n",
              "              title=\"Convert this dataframe to an interactive table.\"\n",
              "              style=\"display:none;\">\n",
              "        \n",
              "  <svg xmlns=\"http://www.w3.org/2000/svg\" height=\"24px\"viewBox=\"0 0 24 24\"\n",
              "       width=\"24px\">\n",
              "    <path d=\"M0 0h24v24H0V0z\" fill=\"none\"/>\n",
              "    <path d=\"M18.56 5.44l.94 2.06.94-2.06 2.06-.94-2.06-.94-.94-2.06-.94 2.06-2.06.94zm-11 1L8.5 8.5l.94-2.06 2.06-.94-2.06-.94L8.5 2.5l-.94 2.06-2.06.94zm10 10l.94 2.06.94-2.06 2.06-.94-2.06-.94-.94-2.06-.94 2.06-2.06.94z\"/><path d=\"M17.41 7.96l-1.37-1.37c-.4-.4-.92-.59-1.43-.59-.52 0-1.04.2-1.43.59L10.3 9.45l-7.72 7.72c-.78.78-.78 2.05 0 2.83L4 21.41c.39.39.9.59 1.41.59.51 0 1.02-.2 1.41-.59l7.78-7.78 2.81-2.81c.8-.78.8-2.07 0-2.86zM5.41 20L4 18.59l7.72-7.72 1.47 1.35L5.41 20z\"/>\n",
              "  </svg>\n",
              "      </button>\n",
              "      \n",
              "  <style>\n",
              "    .colab-df-container {\n",
              "      display:flex;\n",
              "      flex-wrap:wrap;\n",
              "      gap: 12px;\n",
              "    }\n",
              "\n",
              "    .colab-df-convert {\n",
              "      background-color: #E8F0FE;\n",
              "      border: none;\n",
              "      border-radius: 50%;\n",
              "      cursor: pointer;\n",
              "      display: none;\n",
              "      fill: #1967D2;\n",
              "      height: 32px;\n",
              "      padding: 0 0 0 0;\n",
              "      width: 32px;\n",
              "    }\n",
              "\n",
              "    .colab-df-convert:hover {\n",
              "      background-color: #E2EBFA;\n",
              "      box-shadow: 0px 1px 2px rgba(60, 64, 67, 0.3), 0px 1px 3px 1px rgba(60, 64, 67, 0.15);\n",
              "      fill: #174EA6;\n",
              "    }\n",
              "\n",
              "    [theme=dark] .colab-df-convert {\n",
              "      background-color: #3B4455;\n",
              "      fill: #D2E3FC;\n",
              "    }\n",
              "\n",
              "    [theme=dark] .colab-df-convert:hover {\n",
              "      background-color: #434B5C;\n",
              "      box-shadow: 0px 1px 3px 1px rgba(0, 0, 0, 0.15);\n",
              "      filter: drop-shadow(0px 1px 2px rgba(0, 0, 0, 0.3));\n",
              "      fill: #FFFFFF;\n",
              "    }\n",
              "  </style>\n",
              "\n",
              "      <script>\n",
              "        const buttonEl =\n",
              "          document.querySelector('#df-fb6d30c9-21e0-40e0-ae7f-df358050b0fb button.colab-df-convert');\n",
              "        buttonEl.style.display =\n",
              "          google.colab.kernel.accessAllowed ? 'block' : 'none';\n",
              "\n",
              "        async function convertToInteractive(key) {\n",
              "          const element = document.querySelector('#df-fb6d30c9-21e0-40e0-ae7f-df358050b0fb');\n",
              "          const dataTable =\n",
              "            await google.colab.kernel.invokeFunction('convertToInteractive',\n",
              "                                                     [key], {});\n",
              "          if (!dataTable) return;\n",
              "\n",
              "          const docLinkHtml = 'Like what you see? Visit the ' +\n",
              "            '<a target=\"_blank\" href=https://colab.research.google.com/notebooks/data_table.ipynb>data table notebook</a>'\n",
              "            + ' to learn more about interactive tables.';\n",
              "          element.innerHTML = '';\n",
              "          dataTable['output_type'] = 'display_data';\n",
              "          await google.colab.output.renderOutput(dataTable, element);\n",
              "          const docLink = document.createElement('div');\n",
              "          docLink.innerHTML = docLinkHtml;\n",
              "          element.appendChild(docLink);\n",
              "        }\n",
              "      </script>\n",
              "    </div>\n",
              "  </div>\n",
              "  "
            ]
          },
          "metadata": {},
          "execution_count": 32
        }
      ]
    },
    {
      "cell_type": "code",
      "source": [
        "df3= df[df[\"Customer_Age\"] < 50 ]\n",
        "df3"
      ],
      "metadata": {
        "colab": {
          "base_uri": "https://localhost:8080/",
          "height": 426
        },
        "id": "42oIxO1QMuZt",
        "outputId": "8b319656-4f86-40a7-ce19-5dee23df52e6"
      },
      "execution_count": null,
      "outputs": [
        {
          "output_type": "execute_result",
          "data": {
            "text/plain": [
              "    Unnamed: 0  CLIENTNUM     Attrition_Flag  Customer_Age Gender  \\\n",
              "0         6036  720010608  Attrited Customer            37      M   \n",
              "3         9759  709657533  Attrited Customer            44      M   \n",
              "4         4740  716625033  Attrited Customer            32      F   \n",
              "9         8350  709222008  Attrited Customer            41      M   \n",
              "10        8139  809844108  Existing Customer            48      M   \n",
              "12        8020  778163508  Existing Customer            37      F   \n",
              "13         357  711857733  Existing Customer            49      M   \n",
              "14        6562  720070383  Existing Customer            41      F   \n",
              "15        4563  809809008  Existing Customer            47      F   \n",
              "16       10084  718161708  Existing Customer            46      F   \n",
              "17        5725  771079833  Existing Customer            40      F   \n",
              "18        2587  711639708  Existing Customer            42      M   \n",
              "\n",
              "   Education_Level Marital_Status Income_Category Card_Category  Credit_Limit  \n",
              "0          Unknown         Single     $40K - $60K          Blue       10226.0  \n",
              "3      High School        Unknown         $120K +          Blue        7793.0  \n",
              "4         Graduate         Single  Less than $40K          Blue        2761.0  \n",
              "9          Unknown         Single    $80K - $120K          Blue        4742.0  \n",
              "10       Doctorate         Single     $60K - $80K          Blue        8086.0  \n",
              "12     High School        Married         Unknown          Blue        5245.0  \n",
              "13      Uneducated         Single     $60K - $80K          Blue       18584.0  \n",
              "14      Uneducated         Single         Unknown          Blue        2429.0  \n",
              "15        Graduate        Married  Less than $40K          Blue        3111.0  \n",
              "16        Graduate        Married  Less than $40K          Blue        7562.0  \n",
              "17     High School         Single  Less than $40K          Blue        1438.3  \n",
              "18        Graduate         Single     $60K - $80K          Blue        1438.3  "
            ],
            "text/html": [
              "\n",
              "  <div id=\"df-3d01ebcb-cfc6-49fc-8787-e0d9e48bf863\">\n",
              "    <div class=\"colab-df-container\">\n",
              "      <div>\n",
              "<style scoped>\n",
              "    .dataframe tbody tr th:only-of-type {\n",
              "        vertical-align: middle;\n",
              "    }\n",
              "\n",
              "    .dataframe tbody tr th {\n",
              "        vertical-align: top;\n",
              "    }\n",
              "\n",
              "    .dataframe thead th {\n",
              "        text-align: right;\n",
              "    }\n",
              "</style>\n",
              "<table border=\"1\" class=\"dataframe\">\n",
              "  <thead>\n",
              "    <tr style=\"text-align: right;\">\n",
              "      <th></th>\n",
              "      <th>Unnamed: 0</th>\n",
              "      <th>CLIENTNUM</th>\n",
              "      <th>Attrition_Flag</th>\n",
              "      <th>Customer_Age</th>\n",
              "      <th>Gender</th>\n",
              "      <th>Education_Level</th>\n",
              "      <th>Marital_Status</th>\n",
              "      <th>Income_Category</th>\n",
              "      <th>Card_Category</th>\n",
              "      <th>Credit_Limit</th>\n",
              "    </tr>\n",
              "  </thead>\n",
              "  <tbody>\n",
              "    <tr>\n",
              "      <th>0</th>\n",
              "      <td>6036</td>\n",
              "      <td>720010608</td>\n",
              "      <td>Attrited Customer</td>\n",
              "      <td>37</td>\n",
              "      <td>M</td>\n",
              "      <td>Unknown</td>\n",
              "      <td>Single</td>\n",
              "      <td>$40K - $60K</td>\n",
              "      <td>Blue</td>\n",
              "      <td>10226.0</td>\n",
              "    </tr>\n",
              "    <tr>\n",
              "      <th>3</th>\n",
              "      <td>9759</td>\n",
              "      <td>709657533</td>\n",
              "      <td>Attrited Customer</td>\n",
              "      <td>44</td>\n",
              "      <td>M</td>\n",
              "      <td>High School</td>\n",
              "      <td>Unknown</td>\n",
              "      <td>$120K +</td>\n",
              "      <td>Blue</td>\n",
              "      <td>7793.0</td>\n",
              "    </tr>\n",
              "    <tr>\n",
              "      <th>4</th>\n",
              "      <td>4740</td>\n",
              "      <td>716625033</td>\n",
              "      <td>Attrited Customer</td>\n",
              "      <td>32</td>\n",
              "      <td>F</td>\n",
              "      <td>Graduate</td>\n",
              "      <td>Single</td>\n",
              "      <td>Less than $40K</td>\n",
              "      <td>Blue</td>\n",
              "      <td>2761.0</td>\n",
              "    </tr>\n",
              "    <tr>\n",
              "      <th>9</th>\n",
              "      <td>8350</td>\n",
              "      <td>709222008</td>\n",
              "      <td>Attrited Customer</td>\n",
              "      <td>41</td>\n",
              "      <td>M</td>\n",
              "      <td>Unknown</td>\n",
              "      <td>Single</td>\n",
              "      <td>$80K - $120K</td>\n",
              "      <td>Blue</td>\n",
              "      <td>4742.0</td>\n",
              "    </tr>\n",
              "    <tr>\n",
              "      <th>10</th>\n",
              "      <td>8139</td>\n",
              "      <td>809844108</td>\n",
              "      <td>Existing Customer</td>\n",
              "      <td>48</td>\n",
              "      <td>M</td>\n",
              "      <td>Doctorate</td>\n",
              "      <td>Single</td>\n",
              "      <td>$60K - $80K</td>\n",
              "      <td>Blue</td>\n",
              "      <td>8086.0</td>\n",
              "    </tr>\n",
              "    <tr>\n",
              "      <th>12</th>\n",
              "      <td>8020</td>\n",
              "      <td>778163508</td>\n",
              "      <td>Existing Customer</td>\n",
              "      <td>37</td>\n",
              "      <td>F</td>\n",
              "      <td>High School</td>\n",
              "      <td>Married</td>\n",
              "      <td>Unknown</td>\n",
              "      <td>Blue</td>\n",
              "      <td>5245.0</td>\n",
              "    </tr>\n",
              "    <tr>\n",
              "      <th>13</th>\n",
              "      <td>357</td>\n",
              "      <td>711857733</td>\n",
              "      <td>Existing Customer</td>\n",
              "      <td>49</td>\n",
              "      <td>M</td>\n",
              "      <td>Uneducated</td>\n",
              "      <td>Single</td>\n",
              "      <td>$60K - $80K</td>\n",
              "      <td>Blue</td>\n",
              "      <td>18584.0</td>\n",
              "    </tr>\n",
              "    <tr>\n",
              "      <th>14</th>\n",
              "      <td>6562</td>\n",
              "      <td>720070383</td>\n",
              "      <td>Existing Customer</td>\n",
              "      <td>41</td>\n",
              "      <td>F</td>\n",
              "      <td>Uneducated</td>\n",
              "      <td>Single</td>\n",
              "      <td>Unknown</td>\n",
              "      <td>Blue</td>\n",
              "      <td>2429.0</td>\n",
              "    </tr>\n",
              "    <tr>\n",
              "      <th>15</th>\n",
              "      <td>4563</td>\n",
              "      <td>809809008</td>\n",
              "      <td>Existing Customer</td>\n",
              "      <td>47</td>\n",
              "      <td>F</td>\n",
              "      <td>Graduate</td>\n",
              "      <td>Married</td>\n",
              "      <td>Less than $40K</td>\n",
              "      <td>Blue</td>\n",
              "      <td>3111.0</td>\n",
              "    </tr>\n",
              "    <tr>\n",
              "      <th>16</th>\n",
              "      <td>10084</td>\n",
              "      <td>718161708</td>\n",
              "      <td>Existing Customer</td>\n",
              "      <td>46</td>\n",
              "      <td>F</td>\n",
              "      <td>Graduate</td>\n",
              "      <td>Married</td>\n",
              "      <td>Less than $40K</td>\n",
              "      <td>Blue</td>\n",
              "      <td>7562.0</td>\n",
              "    </tr>\n",
              "    <tr>\n",
              "      <th>17</th>\n",
              "      <td>5725</td>\n",
              "      <td>771079833</td>\n",
              "      <td>Existing Customer</td>\n",
              "      <td>40</td>\n",
              "      <td>F</td>\n",
              "      <td>High School</td>\n",
              "      <td>Single</td>\n",
              "      <td>Less than $40K</td>\n",
              "      <td>Blue</td>\n",
              "      <td>1438.3</td>\n",
              "    </tr>\n",
              "    <tr>\n",
              "      <th>18</th>\n",
              "      <td>2587</td>\n",
              "      <td>711639708</td>\n",
              "      <td>Existing Customer</td>\n",
              "      <td>42</td>\n",
              "      <td>M</td>\n",
              "      <td>Graduate</td>\n",
              "      <td>Single</td>\n",
              "      <td>$60K - $80K</td>\n",
              "      <td>Blue</td>\n",
              "      <td>1438.3</td>\n",
              "    </tr>\n",
              "  </tbody>\n",
              "</table>\n",
              "</div>\n",
              "      <button class=\"colab-df-convert\" onclick=\"convertToInteractive('df-3d01ebcb-cfc6-49fc-8787-e0d9e48bf863')\"\n",
              "              title=\"Convert this dataframe to an interactive table.\"\n",
              "              style=\"display:none;\">\n",
              "        \n",
              "  <svg xmlns=\"http://www.w3.org/2000/svg\" height=\"24px\"viewBox=\"0 0 24 24\"\n",
              "       width=\"24px\">\n",
              "    <path d=\"M0 0h24v24H0V0z\" fill=\"none\"/>\n",
              "    <path d=\"M18.56 5.44l.94 2.06.94-2.06 2.06-.94-2.06-.94-.94-2.06-.94 2.06-2.06.94zm-11 1L8.5 8.5l.94-2.06 2.06-.94-2.06-.94L8.5 2.5l-.94 2.06-2.06.94zm10 10l.94 2.06.94-2.06 2.06-.94-2.06-.94-.94-2.06-.94 2.06-2.06.94z\"/><path d=\"M17.41 7.96l-1.37-1.37c-.4-.4-.92-.59-1.43-.59-.52 0-1.04.2-1.43.59L10.3 9.45l-7.72 7.72c-.78.78-.78 2.05 0 2.83L4 21.41c.39.39.9.59 1.41.59.51 0 1.02-.2 1.41-.59l7.78-7.78 2.81-2.81c.8-.78.8-2.07 0-2.86zM5.41 20L4 18.59l7.72-7.72 1.47 1.35L5.41 20z\"/>\n",
              "  </svg>\n",
              "      </button>\n",
              "      \n",
              "  <style>\n",
              "    .colab-df-container {\n",
              "      display:flex;\n",
              "      flex-wrap:wrap;\n",
              "      gap: 12px;\n",
              "    }\n",
              "\n",
              "    .colab-df-convert {\n",
              "      background-color: #E8F0FE;\n",
              "      border: none;\n",
              "      border-radius: 50%;\n",
              "      cursor: pointer;\n",
              "      display: none;\n",
              "      fill: #1967D2;\n",
              "      height: 32px;\n",
              "      padding: 0 0 0 0;\n",
              "      width: 32px;\n",
              "    }\n",
              "\n",
              "    .colab-df-convert:hover {\n",
              "      background-color: #E2EBFA;\n",
              "      box-shadow: 0px 1px 2px rgba(60, 64, 67, 0.3), 0px 1px 3px 1px rgba(60, 64, 67, 0.15);\n",
              "      fill: #174EA6;\n",
              "    }\n",
              "\n",
              "    [theme=dark] .colab-df-convert {\n",
              "      background-color: #3B4455;\n",
              "      fill: #D2E3FC;\n",
              "    }\n",
              "\n",
              "    [theme=dark] .colab-df-convert:hover {\n",
              "      background-color: #434B5C;\n",
              "      box-shadow: 0px 1px 3px 1px rgba(0, 0, 0, 0.15);\n",
              "      filter: drop-shadow(0px 1px 2px rgba(0, 0, 0, 0.3));\n",
              "      fill: #FFFFFF;\n",
              "    }\n",
              "  </style>\n",
              "\n",
              "      <script>\n",
              "        const buttonEl =\n",
              "          document.querySelector('#df-3d01ebcb-cfc6-49fc-8787-e0d9e48bf863 button.colab-df-convert');\n",
              "        buttonEl.style.display =\n",
              "          google.colab.kernel.accessAllowed ? 'block' : 'none';\n",
              "\n",
              "        async function convertToInteractive(key) {\n",
              "          const element = document.querySelector('#df-3d01ebcb-cfc6-49fc-8787-e0d9e48bf863');\n",
              "          const dataTable =\n",
              "            await google.colab.kernel.invokeFunction('convertToInteractive',\n",
              "                                                     [key], {});\n",
              "          if (!dataTable) return;\n",
              "\n",
              "          const docLinkHtml = 'Like what you see? Visit the ' +\n",
              "            '<a target=\"_blank\" href=https://colab.research.google.com/notebooks/data_table.ipynb>data table notebook</a>'\n",
              "            + ' to learn more about interactive tables.';\n",
              "          element.innerHTML = '';\n",
              "          dataTable['output_type'] = 'display_data';\n",
              "          await google.colab.output.renderOutput(dataTable, element);\n",
              "          const docLink = document.createElement('div');\n",
              "          docLink.innerHTML = docLinkHtml;\n",
              "          element.appendChild(docLink);\n",
              "        }\n",
              "      </script>\n",
              "    </div>\n",
              "  </div>\n",
              "  "
            ]
          },
          "metadata": {},
          "execution_count": 29
        }
      ]
    },
    {
      "cell_type": "code",
      "source": [
        "df4= df[df['Marital_Status'].str.contains('Single')]\n",
        "df4"
      ],
      "metadata": {
        "colab": {
          "base_uri": "https://localhost:8080/",
          "height": 395
        },
        "id": "w7q-XFMnNI0W",
        "outputId": "8c6a6362-3c08-4e23-e8bd-2578ca348584"
      },
      "execution_count": null,
      "outputs": [
        {
          "output_type": "execute_result",
          "data": {
            "text/plain": [
              "    Unnamed: 0  CLIENTNUM     Attrition_Flag  Customer_Age Gender  \\\n",
              "0         6036  720010608  Attrited Customer            37      M   \n",
              "2         4272  794707083  Attrited Customer            50      M   \n",
              "4         4740  716625033  Attrited Customer            32      F   \n",
              "6         5009  804829533  Attrited Customer            59      M   \n",
              "7         8200  712144158  Attrited Customer            53      F   \n",
              "9         8350  709222008  Attrited Customer            41      M   \n",
              "10        8139  809844108  Existing Customer            48      M   \n",
              "13         357  711857733  Existing Customer            49      M   \n",
              "14        6562  720070383  Existing Customer            41      F   \n",
              "17        5725  771079833  Existing Customer            40      F   \n",
              "18        2587  711639708  Existing Customer            42      M   \n",
              "\n",
              "   Education_Level Marital_Status Income_Category Card_Category  Credit_Limit  \n",
              "0          Unknown         Single     $40K - $60K          Blue       10226.0  \n",
              "2          College         Single    $80K - $120K          Blue        3495.0  \n",
              "4         Graduate         Single  Less than $40K          Blue        2761.0  \n",
              "6      High School         Single     $60K - $80K          Blue       24621.0  \n",
              "7         Graduate         Single  Less than $40K          Blue        2370.0  \n",
              "9          Unknown         Single    $80K - $120K          Blue        4742.0  \n",
              "10       Doctorate         Single     $60K - $80K          Blue        8086.0  \n",
              "13      Uneducated         Single     $60K - $80K          Blue       18584.0  \n",
              "14      Uneducated         Single         Unknown          Blue        2429.0  \n",
              "17     High School         Single  Less than $40K          Blue        1438.3  \n",
              "18        Graduate         Single     $60K - $80K          Blue        1438.3  "
            ],
            "text/html": [
              "\n",
              "  <div id=\"df-fc135999-7269-4e1b-8886-198d61ed669b\">\n",
              "    <div class=\"colab-df-container\">\n",
              "      <div>\n",
              "<style scoped>\n",
              "    .dataframe tbody tr th:only-of-type {\n",
              "        vertical-align: middle;\n",
              "    }\n",
              "\n",
              "    .dataframe tbody tr th {\n",
              "        vertical-align: top;\n",
              "    }\n",
              "\n",
              "    .dataframe thead th {\n",
              "        text-align: right;\n",
              "    }\n",
              "</style>\n",
              "<table border=\"1\" class=\"dataframe\">\n",
              "  <thead>\n",
              "    <tr style=\"text-align: right;\">\n",
              "      <th></th>\n",
              "      <th>Unnamed: 0</th>\n",
              "      <th>CLIENTNUM</th>\n",
              "      <th>Attrition_Flag</th>\n",
              "      <th>Customer_Age</th>\n",
              "      <th>Gender</th>\n",
              "      <th>Education_Level</th>\n",
              "      <th>Marital_Status</th>\n",
              "      <th>Income_Category</th>\n",
              "      <th>Card_Category</th>\n",
              "      <th>Credit_Limit</th>\n",
              "    </tr>\n",
              "  </thead>\n",
              "  <tbody>\n",
              "    <tr>\n",
              "      <th>0</th>\n",
              "      <td>6036</td>\n",
              "      <td>720010608</td>\n",
              "      <td>Attrited Customer</td>\n",
              "      <td>37</td>\n",
              "      <td>M</td>\n",
              "      <td>Unknown</td>\n",
              "      <td>Single</td>\n",
              "      <td>$40K - $60K</td>\n",
              "      <td>Blue</td>\n",
              "      <td>10226.0</td>\n",
              "    </tr>\n",
              "    <tr>\n",
              "      <th>2</th>\n",
              "      <td>4272</td>\n",
              "      <td>794707083</td>\n",
              "      <td>Attrited Customer</td>\n",
              "      <td>50</td>\n",
              "      <td>M</td>\n",
              "      <td>College</td>\n",
              "      <td>Single</td>\n",
              "      <td>$80K - $120K</td>\n",
              "      <td>Blue</td>\n",
              "      <td>3495.0</td>\n",
              "    </tr>\n",
              "    <tr>\n",
              "      <th>4</th>\n",
              "      <td>4740</td>\n",
              "      <td>716625033</td>\n",
              "      <td>Attrited Customer</td>\n",
              "      <td>32</td>\n",
              "      <td>F</td>\n",
              "      <td>Graduate</td>\n",
              "      <td>Single</td>\n",
              "      <td>Less than $40K</td>\n",
              "      <td>Blue</td>\n",
              "      <td>2761.0</td>\n",
              "    </tr>\n",
              "    <tr>\n",
              "      <th>6</th>\n",
              "      <td>5009</td>\n",
              "      <td>804829533</td>\n",
              "      <td>Attrited Customer</td>\n",
              "      <td>59</td>\n",
              "      <td>M</td>\n",
              "      <td>High School</td>\n",
              "      <td>Single</td>\n",
              "      <td>$60K - $80K</td>\n",
              "      <td>Blue</td>\n",
              "      <td>24621.0</td>\n",
              "    </tr>\n",
              "    <tr>\n",
              "      <th>7</th>\n",
              "      <td>8200</td>\n",
              "      <td>712144158</td>\n",
              "      <td>Attrited Customer</td>\n",
              "      <td>53</td>\n",
              "      <td>F</td>\n",
              "      <td>Graduate</td>\n",
              "      <td>Single</td>\n",
              "      <td>Less than $40K</td>\n",
              "      <td>Blue</td>\n",
              "      <td>2370.0</td>\n",
              "    </tr>\n",
              "    <tr>\n",
              "      <th>9</th>\n",
              "      <td>8350</td>\n",
              "      <td>709222008</td>\n",
              "      <td>Attrited Customer</td>\n",
              "      <td>41</td>\n",
              "      <td>M</td>\n",
              "      <td>Unknown</td>\n",
              "      <td>Single</td>\n",
              "      <td>$80K - $120K</td>\n",
              "      <td>Blue</td>\n",
              "      <td>4742.0</td>\n",
              "    </tr>\n",
              "    <tr>\n",
              "      <th>10</th>\n",
              "      <td>8139</td>\n",
              "      <td>809844108</td>\n",
              "      <td>Existing Customer</td>\n",
              "      <td>48</td>\n",
              "      <td>M</td>\n",
              "      <td>Doctorate</td>\n",
              "      <td>Single</td>\n",
              "      <td>$60K - $80K</td>\n",
              "      <td>Blue</td>\n",
              "      <td>8086.0</td>\n",
              "    </tr>\n",
              "    <tr>\n",
              "      <th>13</th>\n",
              "      <td>357</td>\n",
              "      <td>711857733</td>\n",
              "      <td>Existing Customer</td>\n",
              "      <td>49</td>\n",
              "      <td>M</td>\n",
              "      <td>Uneducated</td>\n",
              "      <td>Single</td>\n",
              "      <td>$60K - $80K</td>\n",
              "      <td>Blue</td>\n",
              "      <td>18584.0</td>\n",
              "    </tr>\n",
              "    <tr>\n",
              "      <th>14</th>\n",
              "      <td>6562</td>\n",
              "      <td>720070383</td>\n",
              "      <td>Existing Customer</td>\n",
              "      <td>41</td>\n",
              "      <td>F</td>\n",
              "      <td>Uneducated</td>\n",
              "      <td>Single</td>\n",
              "      <td>Unknown</td>\n",
              "      <td>Blue</td>\n",
              "      <td>2429.0</td>\n",
              "    </tr>\n",
              "    <tr>\n",
              "      <th>17</th>\n",
              "      <td>5725</td>\n",
              "      <td>771079833</td>\n",
              "      <td>Existing Customer</td>\n",
              "      <td>40</td>\n",
              "      <td>F</td>\n",
              "      <td>High School</td>\n",
              "      <td>Single</td>\n",
              "      <td>Less than $40K</td>\n",
              "      <td>Blue</td>\n",
              "      <td>1438.3</td>\n",
              "    </tr>\n",
              "    <tr>\n",
              "      <th>18</th>\n",
              "      <td>2587</td>\n",
              "      <td>711639708</td>\n",
              "      <td>Existing Customer</td>\n",
              "      <td>42</td>\n",
              "      <td>M</td>\n",
              "      <td>Graduate</td>\n",
              "      <td>Single</td>\n",
              "      <td>$60K - $80K</td>\n",
              "      <td>Blue</td>\n",
              "      <td>1438.3</td>\n",
              "    </tr>\n",
              "  </tbody>\n",
              "</table>\n",
              "</div>\n",
              "      <button class=\"colab-df-convert\" onclick=\"convertToInteractive('df-fc135999-7269-4e1b-8886-198d61ed669b')\"\n",
              "              title=\"Convert this dataframe to an interactive table.\"\n",
              "              style=\"display:none;\">\n",
              "        \n",
              "  <svg xmlns=\"http://www.w3.org/2000/svg\" height=\"24px\"viewBox=\"0 0 24 24\"\n",
              "       width=\"24px\">\n",
              "    <path d=\"M0 0h24v24H0V0z\" fill=\"none\"/>\n",
              "    <path d=\"M18.56 5.44l.94 2.06.94-2.06 2.06-.94-2.06-.94-.94-2.06-.94 2.06-2.06.94zm-11 1L8.5 8.5l.94-2.06 2.06-.94-2.06-.94L8.5 2.5l-.94 2.06-2.06.94zm10 10l.94 2.06.94-2.06 2.06-.94-2.06-.94-.94-2.06-.94 2.06-2.06.94z\"/><path d=\"M17.41 7.96l-1.37-1.37c-.4-.4-.92-.59-1.43-.59-.52 0-1.04.2-1.43.59L10.3 9.45l-7.72 7.72c-.78.78-.78 2.05 0 2.83L4 21.41c.39.39.9.59 1.41.59.51 0 1.02-.2 1.41-.59l7.78-7.78 2.81-2.81c.8-.78.8-2.07 0-2.86zM5.41 20L4 18.59l7.72-7.72 1.47 1.35L5.41 20z\"/>\n",
              "  </svg>\n",
              "      </button>\n",
              "      \n",
              "  <style>\n",
              "    .colab-df-container {\n",
              "      display:flex;\n",
              "      flex-wrap:wrap;\n",
              "      gap: 12px;\n",
              "    }\n",
              "\n",
              "    .colab-df-convert {\n",
              "      background-color: #E8F0FE;\n",
              "      border: none;\n",
              "      border-radius: 50%;\n",
              "      cursor: pointer;\n",
              "      display: none;\n",
              "      fill: #1967D2;\n",
              "      height: 32px;\n",
              "      padding: 0 0 0 0;\n",
              "      width: 32px;\n",
              "    }\n",
              "\n",
              "    .colab-df-convert:hover {\n",
              "      background-color: #E2EBFA;\n",
              "      box-shadow: 0px 1px 2px rgba(60, 64, 67, 0.3), 0px 1px 3px 1px rgba(60, 64, 67, 0.15);\n",
              "      fill: #174EA6;\n",
              "    }\n",
              "\n",
              "    [theme=dark] .colab-df-convert {\n",
              "      background-color: #3B4455;\n",
              "      fill: #D2E3FC;\n",
              "    }\n",
              "\n",
              "    [theme=dark] .colab-df-convert:hover {\n",
              "      background-color: #434B5C;\n",
              "      box-shadow: 0px 1px 3px 1px rgba(0, 0, 0, 0.15);\n",
              "      filter: drop-shadow(0px 1px 2px rgba(0, 0, 0, 0.3));\n",
              "      fill: #FFFFFF;\n",
              "    }\n",
              "  </style>\n",
              "\n",
              "      <script>\n",
              "        const buttonEl =\n",
              "          document.querySelector('#df-fc135999-7269-4e1b-8886-198d61ed669b button.colab-df-convert');\n",
              "        buttonEl.style.display =\n",
              "          google.colab.kernel.accessAllowed ? 'block' : 'none';\n",
              "\n",
              "        async function convertToInteractive(key) {\n",
              "          const element = document.querySelector('#df-fc135999-7269-4e1b-8886-198d61ed669b');\n",
              "          const dataTable =\n",
              "            await google.colab.kernel.invokeFunction('convertToInteractive',\n",
              "                                                     [key], {});\n",
              "          if (!dataTable) return;\n",
              "\n",
              "          const docLinkHtml = 'Like what you see? Visit the ' +\n",
              "            '<a target=\"_blank\" href=https://colab.research.google.com/notebooks/data_table.ipynb>data table notebook</a>'\n",
              "            + ' to learn more about interactive tables.';\n",
              "          element.innerHTML = '';\n",
              "          dataTable['output_type'] = 'display_data';\n",
              "          await google.colab.output.renderOutput(dataTable, element);\n",
              "          const docLink = document.createElement('div');\n",
              "          docLink.innerHTML = docLinkHtml;\n",
              "          element.appendChild(docLink);\n",
              "        }\n",
              "      </script>\n",
              "    </div>\n",
              "  </div>\n",
              "  "
            ]
          },
          "metadata": {},
          "execution_count": 31
        }
      ]
    },
    {
      "cell_type": "code",
      "source": [
        "# Tampilkan info dataset (df.info()) dan berikan penjelasannya dalam bentuk teks atau comment\n",
        "df.info()"
      ],
      "metadata": {
        "id": "vm89zlTTOl4D",
        "colab": {
          "base_uri": "https://localhost:8080/"
        },
        "outputId": "03ce366e-76f9-4b08-d520-8aeec97644ff"
      },
      "execution_count": null,
      "outputs": [
        {
          "output_type": "stream",
          "name": "stdout",
          "text": [
            "<class 'pandas.core.frame.DataFrame'>\n",
            "RangeIndex: 20 entries, 0 to 19\n",
            "Data columns (total 10 columns):\n",
            " #   Column           Non-Null Count  Dtype  \n",
            "---  ------           --------------  -----  \n",
            " 0   Unnamed: 0       20 non-null     int64  \n",
            " 1   CLIENTNUM        20 non-null     int64  \n",
            " 2   Attrition_Flag   20 non-null     object \n",
            " 3   Customer_Age     20 non-null     int64  \n",
            " 4   Gender           20 non-null     object \n",
            " 5   Education_Level  20 non-null     object \n",
            " 6   Marital_Status   20 non-null     object \n",
            " 7   Income_Category  20 non-null     object \n",
            " 8   Card_Category    20 non-null     object \n",
            " 9   Credit_Limit     20 non-null     float64\n",
            "dtypes: float64(1), int64(3), object(6)\n",
            "memory usage: 1.7+ KB\n"
          ]
        }
      ]
    },
    {
      "cell_type": "markdown",
      "source": [
        "⭐🎀Dataset diatas menampilkan informasi detail tentang dataframe, seperti jumlah baris data, nama-nama kolom berserta jumlah data dan tipe datanya.🌈🐧\n",
        "\n",
        "🌞🎈Dimana baris data berjumlah 20 baris yang memiliki 10 kolom yaitu:\n",
        "CLIENTNUM bertipe data int, Attrition_Flag bertipe data object, \n",
        "Customer_Age bertipe data int, Gender bertipe data object, Education_Level bertipe data object, Marital_Status bertipe data object, Income_Category bertipe data object, Card_Category bertipe data object, dan Credit_Limit bertipe data float.💜✨☂️\n",
        "\n",
        "**Memiliki kesimpulan:**\n",
        " ✨Tipe data: float64(1), int64(3), object(6)"
      ],
      "metadata": {
        "id": "nn9H54l9PzcL"
      }
    },
    {
      "cell_type": "code",
      "source": [
        "#@title Opsional (nilai plus)\n",
        "\n",
        "# Tampilkan nilai rata-rata, min,max, dan standar deviasi  untuk setiap kolom bertipe angka"
      ],
      "metadata": {
        "id": "Gk-aiwdCO3Tw"
      },
      "execution_count": null,
      "outputs": []
    },
    {
      "cell_type": "code",
      "source": [
        "# Nilai Rata-Rata dari Customer age\n",
        "df[\"Customer_Age\"].mean()"
      ],
      "metadata": {
        "colab": {
          "base_uri": "https://localhost:8080/"
        },
        "id": "bD_eVpPeCQj0",
        "outputId": "6d47010d-ef35-4329-e5e5-2331d25ef8e4"
      },
      "execution_count": null,
      "outputs": [
        {
          "output_type": "execute_result",
          "data": {
            "text/plain": [
              "47.25"
            ]
          },
          "metadata": {},
          "execution_count": 12
        }
      ]
    },
    {
      "cell_type": "code",
      "source": [
        "#Nilai Minimum dari credit limit\n",
        "df[\"Credit_Limit\"].min()"
      ],
      "metadata": {
        "colab": {
          "base_uri": "https://localhost:8080/"
        },
        "id": "bHP0m6ocCZMK",
        "outputId": "271c5443-6bbd-4981-ece3-826751116f01"
      },
      "execution_count": null,
      "outputs": [
        {
          "output_type": "execute_result",
          "data": {
            "text/plain": [
              "1438.3"
            ]
          },
          "metadata": {},
          "execution_count": 13
        }
      ]
    },
    {
      "cell_type": "code",
      "source": [
        "# Nilai Maximum dari Clientnum\n",
        "df[\"CLIENTNUM\"].max()"
      ],
      "metadata": {
        "colab": {
          "base_uri": "https://localhost:8080/"
        },
        "id": "-4xrOItpCgf6",
        "outputId": "723f66fd-c929-4613-cdcd-cf2ad55187fc"
      },
      "execution_count": null,
      "outputs": [
        {
          "output_type": "execute_result",
          "data": {
            "text/plain": [
              "809844108"
            ]
          },
          "metadata": {},
          "execution_count": 17
        }
      ]
    },
    {
      "cell_type": "code",
      "source": [
        "# Standar Deviasi = melihat jauh dekatnya sebaran data tersebut dari rata-rata atau mean.\n",
        "df[\"Unnamed: 0\"].std()"
      ],
      "metadata": {
        "colab": {
          "base_uri": "https://localhost:8080/"
        },
        "id": "gA5U04c0C2Yk",
        "outputId": "3d92a33a-5be2-4cec-ae48-c57b9a2be628"
      },
      "execution_count": null,
      "outputs": [
        {
          "output_type": "execute_result",
          "data": {
            "text/plain": [
              "2850.304026258473"
            ]
          },
          "metadata": {},
          "execution_count": 19
        }
      ]
    },
    {
      "cell_type": "code",
      "source": [
        "df.describe()"
      ],
      "metadata": {
        "colab": {
          "base_uri": "https://localhost:8080/",
          "height": 300
        },
        "id": "7TqXcBT0kNpj",
        "outputId": "6e892ad0-d395-4140-c0fe-4f3c5ad4ee6c"
      },
      "execution_count": null,
      "outputs": [
        {
          "output_type": "execute_result",
          "data": {
            "text/plain": [
              "         Unnamed: 0     CLIENTNUM  Customer_Age  Credit_Limit\n",
              "count     20.000000  2.000000e+01     20.000000     20.000000\n",
              "mean    6105.100000  7.424893e+08     47.250000   8114.580000\n",
              "std     2850.304026  4.045524e+07      7.859791   8331.036819\n",
              "min      176.000000  7.092220e+08     32.000000   1438.300000\n",
              "25%     4695.750000  7.120726e+08     41.000000   2502.500000\n",
              "50%     6299.000000  7.173934e+08     47.500000   4118.500000\n",
              "75%     8206.500000  7.822994e+08     53.500000   8621.000000\n",
              "max    10084.000000  8.098441e+08     59.000000  26792.000000"
            ],
            "text/html": [
              "\n",
              "  <div id=\"df-46c7b4b8-9fb7-434e-8e9d-a490ce3a4d87\">\n",
              "    <div class=\"colab-df-container\">\n",
              "      <div>\n",
              "<style scoped>\n",
              "    .dataframe tbody tr th:only-of-type {\n",
              "        vertical-align: middle;\n",
              "    }\n",
              "\n",
              "    .dataframe tbody tr th {\n",
              "        vertical-align: top;\n",
              "    }\n",
              "\n",
              "    .dataframe thead th {\n",
              "        text-align: right;\n",
              "    }\n",
              "</style>\n",
              "<table border=\"1\" class=\"dataframe\">\n",
              "  <thead>\n",
              "    <tr style=\"text-align: right;\">\n",
              "      <th></th>\n",
              "      <th>Unnamed: 0</th>\n",
              "      <th>CLIENTNUM</th>\n",
              "      <th>Customer_Age</th>\n",
              "      <th>Credit_Limit</th>\n",
              "    </tr>\n",
              "  </thead>\n",
              "  <tbody>\n",
              "    <tr>\n",
              "      <th>count</th>\n",
              "      <td>20.000000</td>\n",
              "      <td>2.000000e+01</td>\n",
              "      <td>20.000000</td>\n",
              "      <td>20.000000</td>\n",
              "    </tr>\n",
              "    <tr>\n",
              "      <th>mean</th>\n",
              "      <td>6105.100000</td>\n",
              "      <td>7.424893e+08</td>\n",
              "      <td>47.250000</td>\n",
              "      <td>8114.580000</td>\n",
              "    </tr>\n",
              "    <tr>\n",
              "      <th>std</th>\n",
              "      <td>2850.304026</td>\n",
              "      <td>4.045524e+07</td>\n",
              "      <td>7.859791</td>\n",
              "      <td>8331.036819</td>\n",
              "    </tr>\n",
              "    <tr>\n",
              "      <th>min</th>\n",
              "      <td>176.000000</td>\n",
              "      <td>7.092220e+08</td>\n",
              "      <td>32.000000</td>\n",
              "      <td>1438.300000</td>\n",
              "    </tr>\n",
              "    <tr>\n",
              "      <th>25%</th>\n",
              "      <td>4695.750000</td>\n",
              "      <td>7.120726e+08</td>\n",
              "      <td>41.000000</td>\n",
              "      <td>2502.500000</td>\n",
              "    </tr>\n",
              "    <tr>\n",
              "      <th>50%</th>\n",
              "      <td>6299.000000</td>\n",
              "      <td>7.173934e+08</td>\n",
              "      <td>47.500000</td>\n",
              "      <td>4118.500000</td>\n",
              "    </tr>\n",
              "    <tr>\n",
              "      <th>75%</th>\n",
              "      <td>8206.500000</td>\n",
              "      <td>7.822994e+08</td>\n",
              "      <td>53.500000</td>\n",
              "      <td>8621.000000</td>\n",
              "    </tr>\n",
              "    <tr>\n",
              "      <th>max</th>\n",
              "      <td>10084.000000</td>\n",
              "      <td>8.098441e+08</td>\n",
              "      <td>59.000000</td>\n",
              "      <td>26792.000000</td>\n",
              "    </tr>\n",
              "  </tbody>\n",
              "</table>\n",
              "</div>\n",
              "      <button class=\"colab-df-convert\" onclick=\"convertToInteractive('df-46c7b4b8-9fb7-434e-8e9d-a490ce3a4d87')\"\n",
              "              title=\"Convert this dataframe to an interactive table.\"\n",
              "              style=\"display:none;\">\n",
              "        \n",
              "  <svg xmlns=\"http://www.w3.org/2000/svg\" height=\"24px\"viewBox=\"0 0 24 24\"\n",
              "       width=\"24px\">\n",
              "    <path d=\"M0 0h24v24H0V0z\" fill=\"none\"/>\n",
              "    <path d=\"M18.56 5.44l.94 2.06.94-2.06 2.06-.94-2.06-.94-.94-2.06-.94 2.06-2.06.94zm-11 1L8.5 8.5l.94-2.06 2.06-.94-2.06-.94L8.5 2.5l-.94 2.06-2.06.94zm10 10l.94 2.06.94-2.06 2.06-.94-2.06-.94-.94-2.06-.94 2.06-2.06.94z\"/><path d=\"M17.41 7.96l-1.37-1.37c-.4-.4-.92-.59-1.43-.59-.52 0-1.04.2-1.43.59L10.3 9.45l-7.72 7.72c-.78.78-.78 2.05 0 2.83L4 21.41c.39.39.9.59 1.41.59.51 0 1.02-.2 1.41-.59l7.78-7.78 2.81-2.81c.8-.78.8-2.07 0-2.86zM5.41 20L4 18.59l7.72-7.72 1.47 1.35L5.41 20z\"/>\n",
              "  </svg>\n",
              "      </button>\n",
              "      \n",
              "  <style>\n",
              "    .colab-df-container {\n",
              "      display:flex;\n",
              "      flex-wrap:wrap;\n",
              "      gap: 12px;\n",
              "    }\n",
              "\n",
              "    .colab-df-convert {\n",
              "      background-color: #E8F0FE;\n",
              "      border: none;\n",
              "      border-radius: 50%;\n",
              "      cursor: pointer;\n",
              "      display: none;\n",
              "      fill: #1967D2;\n",
              "      height: 32px;\n",
              "      padding: 0 0 0 0;\n",
              "      width: 32px;\n",
              "    }\n",
              "\n",
              "    .colab-df-convert:hover {\n",
              "      background-color: #E2EBFA;\n",
              "      box-shadow: 0px 1px 2px rgba(60, 64, 67, 0.3), 0px 1px 3px 1px rgba(60, 64, 67, 0.15);\n",
              "      fill: #174EA6;\n",
              "    }\n",
              "\n",
              "    [theme=dark] .colab-df-convert {\n",
              "      background-color: #3B4455;\n",
              "      fill: #D2E3FC;\n",
              "    }\n",
              "\n",
              "    [theme=dark] .colab-df-convert:hover {\n",
              "      background-color: #434B5C;\n",
              "      box-shadow: 0px 1px 3px 1px rgba(0, 0, 0, 0.15);\n",
              "      filter: drop-shadow(0px 1px 2px rgba(0, 0, 0, 0.3));\n",
              "      fill: #FFFFFF;\n",
              "    }\n",
              "  </style>\n",
              "\n",
              "      <script>\n",
              "        const buttonEl =\n",
              "          document.querySelector('#df-46c7b4b8-9fb7-434e-8e9d-a490ce3a4d87 button.colab-df-convert');\n",
              "        buttonEl.style.display =\n",
              "          google.colab.kernel.accessAllowed ? 'block' : 'none';\n",
              "\n",
              "        async function convertToInteractive(key) {\n",
              "          const element = document.querySelector('#df-46c7b4b8-9fb7-434e-8e9d-a490ce3a4d87');\n",
              "          const dataTable =\n",
              "            await google.colab.kernel.invokeFunction('convertToInteractive',\n",
              "                                                     [key], {});\n",
              "          if (!dataTable) return;\n",
              "\n",
              "          const docLinkHtml = 'Like what you see? Visit the ' +\n",
              "            '<a target=\"_blank\" href=https://colab.research.google.com/notebooks/data_table.ipynb>data table notebook</a>'\n",
              "            + ' to learn more about interactive tables.';\n",
              "          element.innerHTML = '';\n",
              "          dataTable['output_type'] = 'display_data';\n",
              "          await google.colab.output.renderOutput(dataTable, element);\n",
              "          const docLink = document.createElement('div');\n",
              "          docLink.innerHTML = docLinkHtml;\n",
              "          element.appendChild(docLink);\n",
              "        }\n",
              "      </script>\n",
              "    </div>\n",
              "  </div>\n",
              "  "
            ]
          },
          "metadata": {},
          "execution_count": 39
        }
      ]
    },
    {
      "cell_type": "markdown",
      "source": [
        "#### Explore Data"
      ],
      "metadata": {
        "id": "PmPSc7uV_XjV"
      }
    },
    {
      "cell_type": "markdown",
      "source": [
        "##### Visualisasi Comparison"
      ],
      "metadata": {
        "id": "OXfexpup_a6l"
      }
    },
    {
      "cell_type": "code",
      "source": [
        "# Buatlah visualisasi yang menampilkan berapa banyak yang attired customer dan tidak\n",
        "\n",
        "sns.countplot(data=df,x=\"Attrition_Flag\") "
      ],
      "metadata": {
        "id": "EIVBtry9_W5m",
        "colab": {
          "base_uri": "https://localhost:8080/",
          "height": 297
        },
        "outputId": "68253749-448b-4f04-b6cb-b60932c186ad"
      },
      "execution_count": null,
      "outputs": [
        {
          "output_type": "execute_result",
          "data": {
            "text/plain": [
              "<AxesSubplot:xlabel='Attrition_Flag', ylabel='count'>"
            ]
          },
          "metadata": {},
          "execution_count": 12
        },
        {
          "output_type": "display_data",
          "data": {
            "text/plain": [
              "<Figure size 432x288 with 1 Axes>"
            ],
            "image/png": "[encoded data removed]"
          },
          "metadata": {
            "needs_background": "light"
          }
        }
      ]
    },
    {
      "cell_type": "code",
      "source": [
        "# Buatlah visualisasi yang menampilkan berapa banyak Education level berdasarkan kategori-kategorinya \n",
        "# contoh Unknown berapa dsb\n",
        "sns.countplot(data=df,x=\"Education_Level\")"
      ],
      "metadata": {
        "id": "UgQPmLrH_lbd",
        "colab": {
          "base_uri": "https://localhost:8080/",
          "height": 297
        },
        "outputId": "79e34957-0da9-4bea-f580-c692e1853ce4"
      },
      "execution_count": 4,
      "outputs": [
        {
          "output_type": "execute_result",
          "data": {
            "text/plain": [
              "<AxesSubplot:xlabel='Education_Level', ylabel='count'>"
            ]
          },
          "metadata": {},
          "execution_count": 4
        },
        {
          "output_type": "display_data",
          "data": {
            "text/plain": [
              "<Figure size 432x288 with 1 Axes>"
            ],
            "image/png": "[encoded data removed]"
          },
          "metadata": {
            "needs_background": "light"
          }
        }
      ]
    },
    {
      "cell_type": "code",
      "source": [
        "# Buatlah visualisasi yang menampilkan berapa banyak Education level berdasarkan gendernya\n",
        "# contoh M berapa F berapa\n",
        "sns.countplot(data=df, y=\"Education_Level\", hue=\"Gender\") "
      ],
      "metadata": {
        "id": "8Ahhq1TG__7k",
        "colab": {
          "base_uri": "https://localhost:8080/",
          "height": 296
        },
        "outputId": "2ff50da4-01d7-4759-a135-dc7b20abb3f5"
      },
      "execution_count": null,
      "outputs": [
        {
          "output_type": "execute_result",
          "data": {
            "text/plain": [
              "<AxesSubplot:xlabel='count', ylabel='Education_Level'>"
            ]
          },
          "metadata": {},
          "execution_count": 17
        },
        {
          "output_type": "display_data",
          "data": {
            "text/plain": [
              "<Figure size 432x288 with 1 Axes>"
            ],
            "image/png": "[encoded data removed]"
          },
          "metadata": {
            "needs_background": "light"
          }
        }
      ]
    },
    {
      "cell_type": "markdown",
      "source": [
        "✅Visualisasi ini membandingkan banyaknya jenis nasabah yang attrited customer dan yang bukan attrited customer yaitu existing customer, dengan menggunakan visualisasi countplot.\n",
        "\n",
        "✨Dengan method countplot menampilkan banyak nya objek Education level berdasarkan kategorinya.\n",
        "\n",
        "🦋🐳Ditambahkan variabel hue untuk menunjukan subplot relasi antar variabel yang lebih jelas."
      ],
      "metadata": {
        "id": "l0RDSKIjPMae"
      }
    },
    {
      "cell_type": "markdown",
      "source": [
        "##### Visualisasi Distribution\n"
      ],
      "metadata": {
        "id": "CAFZk0hOAEUT"
      }
    },
    {
      "cell_type": "code",
      "source": [
        "# Buatlah histogram untuk umur customer dan credit card limit\n",
        "sns.histplot(data=df,x=\"Customer_Age\",kde=True)"
      ],
      "metadata": {
        "id": "RX_wqpm7PPne",
        "colab": {
          "base_uri": "https://localhost:8080/",
          "height": 297
        },
        "outputId": "fc059c4c-4eba-462d-e462-4962c01f68d8"
      },
      "execution_count": null,
      "outputs": [
        {
          "output_type": "execute_result",
          "data": {
            "text/plain": [
              "<AxesSubplot:xlabel='Customer_Age', ylabel='Count'>"
            ]
          },
          "metadata": {},
          "execution_count": 41
        },
        {
          "output_type": "display_data",
          "data": {
            "text/plain": [
              "<Figure size 432x288 with 1 Axes>"
            ],
            "image/png": "[encoded data removed]"
          },
          "metadata": {
            "needs_background": "light"
          }
        }
      ]
    },
    {
      "cell_type": "code",
      "source": [
        "\n",
        "sns.histplot(data=df,x=\"Credit_Limit\",kde=True)"
      ],
      "metadata": {
        "colab": {
          "base_uri": "https://localhost:8080/",
          "height": 297
        },
        "id": "nHp9OvhBX2Wo",
        "outputId": "f3860860-a930-40e2-93a2-9a4a9398710f"
      },
      "execution_count": null,
      "outputs": [
        {
          "output_type": "execute_result",
          "data": {
            "text/plain": [
              "<AxesSubplot:xlabel='Credit_Limit', ylabel='Count'>"
            ]
          },
          "metadata": {},
          "execution_count": 42
        },
        {
          "output_type": "display_data",
          "data": {
            "text/plain": [
              "<Figure size 432x288 with 1 Axes>"
            ],
            "image/png": "[encoded data removed]"
          },
          "metadata": {
            "needs_background": "light"
          }
        }
      ]
    },
    {
      "cell_type": "code",
      "source": [
        "# Buatlah boxplot untuk umur customer dan credit card limit\n",
        "sns.boxplot(data=df, x=\"Credit_Limit\")"
      ],
      "metadata": {
        "id": "IcF_B1HmP7mO",
        "colab": {
          "base_uri": "https://localhost:8080/",
          "height": 297
        },
        "outputId": "6c3694c7-985e-45db-f445-f9cfa7b01970"
      },
      "execution_count": null,
      "outputs": [
        {
          "output_type": "execute_result",
          "data": {
            "text/plain": [
              "<AxesSubplot:xlabel='Credit_Limit'>"
            ]
          },
          "metadata": {},
          "execution_count": 51
        },
        {
          "output_type": "display_data",
          "data": {
            "text/plain": [
              "<Figure size 432x288 with 1 Axes>"
            ],
            "image/png": "[encoded data removed]"
          },
          "metadata": {
            "needs_background": "light"
          }
        }
      ]
    },
    {
      "cell_type": "code",
      "source": [
        "sns.boxplot(data=df, x=\"Customer_Age\")"
      ],
      "metadata": {
        "colab": {
          "base_uri": "https://localhost:8080/",
          "height": 297
        },
        "id": "D2h72s4YbGRz",
        "outputId": "bf607283-8121-40f2-f983-f995381032a8"
      },
      "execution_count": null,
      "outputs": [
        {
          "output_type": "execute_result",
          "data": {
            "text/plain": [
              "<AxesSubplot:xlabel='Customer_Age'>"
            ]
          },
          "metadata": {},
          "execution_count": 55
        },
        {
          "output_type": "display_data",
          "data": {
            "text/plain": [
              "<Figure size 432x288 with 1 Axes>"
            ],
            "image/png": "[encoded data removed]"
          },
          "metadata": {
            "needs_background": "light"
          }
        }
      ]
    },
    {
      "cell_type": "code",
      "source": [
        "#Jika boxplot gabungan untuk customer age dan credit limit\n",
        "sns.boxplot(x=\"Customer_Age\", y=\"Credit_Limit\",data=df)"
      ],
      "metadata": {
        "id": "0Tst_C7nhcbp",
        "colab": {
          "base_uri": "https://localhost:8080/",
          "height": 297
        },
        "outputId": "71632c47-f88d-458e-88f2-9c79f935d1ea"
      },
      "execution_count": null,
      "outputs": [
        {
          "output_type": "execute_result",
          "data": {
            "text/plain": [
              "<AxesSubplot:xlabel='Customer_Age', ylabel='Credit_Limit'>"
            ]
          },
          "metadata": {},
          "execution_count": 8
        },
        {
          "output_type": "display_data",
          "data": {
            "text/plain": [
              "<Figure size 432x288 with 1 Axes>"
            ],
            "image/png": "[encoded data removed]"
          },
          "metadata": {
            "needs_background": "light"
          }
        }
      ]
    },
    {
      "cell_type": "markdown",
      "source": [
        "⭐🎈🐤Pada histogram sumbu x merepresentasikan bin dari data dan sumbu y dari histogram merepresentasikan frekuensi dari setiap bin.\n",
        "\n",
        "🐤💜🌈Dengan menentukan nilai parameter x menggunakan data dari df maka sudah dapat menghasilkan boxplot untuk customer dan credit card limit.\n",
        "\n",
        "**Penjelasan**\n",
        "\n",
        "Visualiasi pertama : menampilkan visualisasi hitsplot dari dataset df dengan variabel x dari kolom \"Credit_Limit\" dan kernel density estimate (kde).\n",
        "Visualiasi kedua : menampilkan visualisasi hitsplot dari dataset df dengan variabel x dari kolom \"Customer_Age\" dan kernel density estimate (kde).\n",
        "Visualiasi ketiga : menampilkan visualisasi boxplot dari dataset df dengan variabel x dari kolom \"Customer_Age\".\n",
        "Visualiasi keempat : menampilkan visualisasi boxplot dari dataset df dengan variabel x dari kolom \"Credit_Limit\"."
      ],
      "metadata": {
        "id": "v_TwvSa9P94E"
      }
    },
    {
      "cell_type": "markdown",
      "source": [
        "##### Visualisasi Relationship\n",
        "\n",
        "\n"
      ],
      "metadata": {
        "id": "ezkaX5QbPfNG"
      }
    },
    {
      "cell_type": "code",
      "source": [
        "# Buatlah scatterplot untuk umur customer dan credit card limit\n",
        "\n",
        "sns.scatterplot(data=df, x=\"Customer_Age\", y=\"Credit_Limit\")"
      ],
      "metadata": {
        "id": "y-lzGBWSP3b8",
        "colab": {
          "base_uri": "https://localhost:8080/",
          "height": 297
        },
        "outputId": "d7ca2d71-1853-49fa-e836-8daa75e06717"
      },
      "execution_count": null,
      "outputs": [
        {
          "output_type": "execute_result",
          "data": {
            "text/plain": [
              "<AxesSubplot:xlabel='Customer_Age', ylabel='Credit_Limit'>"
            ]
          },
          "metadata": {},
          "execution_count": 46
        },
        {
          "output_type": "display_data",
          "data": {
            "text/plain": [
              "<Figure size 432x288 with 1 Axes>"
            ],
            "image/png": "[encoded data removed]"
          },
          "metadata": {
            "needs_background": "light"
          }
        }
      ]
    },
    {
      "cell_type": "markdown",
      "source": [
        "##### Visualisasi Composition\n",
        "\n",
        "\n"
      ],
      "metadata": {
        "id": "5jEZ8lWTQWwG"
      }
    },
    {
      "cell_type": "code",
      "source": [
        "# Buatlah pieplot untuk Income Category & Education Level\n",
        "px.pie(df,names=(\"Income_Category\"))"
      ],
      "metadata": {
        "id": "hjPoni4qQWwH",
        "colab": {
          "base_uri": "https://localhost:8080/",
          "height": 542
        },
        "outputId": "5b0ffb08-1735-4dd2-ede0-1b4ca0f2061e"
      },
      "execution_count": null,
      "outputs": [
        {
          "output_type": "display_data",
          "data": {
            "text/html": [
              "<html>\n",
              "<head><meta charset=\"utf-8\" /></head>\n",
              "<body>\n",
              "    <div>            <script src=\"https://cdnjs.cloudflare.com/ajax/libs/mathjax/2.7.5/MathJax.js?config=TeX-AMS-MML_SVG\"></script><script type=\"text/javascript\">if (window.MathJax) {MathJax.Hub.Config({SVG: {font: \"STIX-Web\"}});}</script>                <script type=\"text/javascript\">window.PlotlyConfig = {MathJaxConfig: 'local'};</script>\n",
              "        <script src=\"https://cdn.plot.ly/plotly-2.8.3.min.js\"></script>                <div id=\"6516ebcf-2562-4f44-8ddf-2447a4c43240\" class=\"plotly-graph-div\" style=\"height:525px; width:100%;\"></div>            <script type=\"text/javascript\">                                    window.PLOTLYENV=window.PLOTLYENV || {};                                    if (document.getElementById(\"6516ebcf-2562-4f44-8ddf-2447a4c43240\")) {                    Plotly.newPlot(                        \"6516ebcf-2562-4f44-8ddf-2447a4c43240\",                        [{\"domain\":{\"x\":[0.0,1.0],\"y\":[0.0,1.0]},\"hovertemplate\":\"Income_Category=%{label}<extra></extra>\",\"labels\":[\"$40K - $60K\",\"$60K - $80K\",\"$80K - $120K\",\"$120K +\",\"Less than $40K\",\"$80K - $120K\",\"$60K - $80K\",\"Less than $40K\",\"Unknown\",\"$80K - $120K\",\"$60K - $80K\",\"$80K - $120K\",\"Unknown\",\"$60K - $80K\",\"Unknown\",\"Less than $40K\",\"Less than $40K\",\"Less than $40K\",\"$60K - $80K\",\"Unknown\"],\"legendgroup\":\"\",\"name\":\"\",\"showlegend\":true,\"type\":\"pie\"}],                        {\"template\":{\"data\":{\"bar\":[{\"error_x\":{\"color\":\"#2a3f5f\"},\"error_y\":{\"color\":\"#2a3f5f\"},\"marker\":{\"line\":{\"color\":\"#E5ECF6\",\"width\":0.5},\"pattern\":{\"fillmode\":\"overlay\",\"size\":10,\"solidity\":0.2}},\"type\":\"bar\"}],\"barpolar\":[{\"marker\":{\"line\":{\"color\":\"#E5ECF6\",\"width\":0.5},\"pattern\":{\"fillmode\":\"overlay\",\"size\":10,\"solidity\":0.2}},\"type\":\"barpolar\"}],\"carpet\":[{\"aaxis\":{\"endlinecolor\":\"#2a3f5f\",\"gridcolor\":\"white\",\"linecolor\":\"white\",\"minorgridcolor\":\"white\",\"startlinecolor\":\"#2a3f5f\"},\"baxis\":{\"endlinecolor\":\"#2a3f5f\",\"gridcolor\":\"white\",\"linecolor\":\"white\",\"minorgridcolor\":\"white\",\"startlinecolor\":\"#2a3f5f\"},\"type\":\"carpet\"}],\"choropleth\":[{\"colorbar\":{\"outlinewidth\":0,\"ticks\":\"\"},\"type\":\"choropleth\"}],\"contour\":[{\"colorbar\":{\"outlinewidth\":0,\"ticks\":\"\"},\"colorscale\":[[0.0,\"#0d0887\"],[0.1111111111111111,\"#46039f\"],[0.2222222222222222,\"#7201a8\"],[0.3333333333333333,\"#9c179e\"],[0.4444444444444444,\"#bd3786\"],[0.5555555555555556,\"#d8576b\"],[0.6666666666666666,\"#ed7953\"],[0.7777777777777778,\"#fb9f3a\"],[0.8888888888888888,\"#fdca26\"],[1.0,\"#f0f921\"]],\"type\":\"contour\"}],\"contourcarpet\":[{\"colorbar\":{\"outlinewidth\":0,\"ticks\":\"\"},\"type\":\"contourcarpet\"}],\"heatmap\":[{\"colorbar\":{\"outlinewidth\":0,\"ticks\":\"\"},\"colorscale\":[[0.0,\"#0d0887\"],[0.1111111111111111,\"#46039f\"],[0.2222222222222222,\"#7201a8\"],[0.3333333333333333,\"#9c179e\"],[0.4444444444444444,\"#bd3786\"],[0.5555555555555556,\"#d8576b\"],[0.6666666666666666,\"#ed7953\"],[0.7777777777777778,\"#fb9f3a\"],[0.8888888888888888,\"#fdca26\"],[1.0,\"#f0f921\"]],\"type\":\"heatmap\"}],\"heatmapgl\":[{\"colorbar\":{\"outlinewidth\":0,\"ticks\":\"\"},\"colorscale\":[[0.0,\"#0d0887\"],[0.1111111111111111,\"#46039f\"],[0.2222222222222222,\"#7201a8\"],[0.3333333333333333,\"#9c179e\"],[0.4444444444444444,\"#bd3786\"],[0.5555555555555556,\"#d8576b\"],[0.6666666666666666,\"#ed7953\"],[0.7777777777777778,\"#fb9f3a\"],[0.8888888888888888,\"#fdca26\"],[1.0,\"#f0f921\"]],\"type\":\"heatmapgl\"}],\"histogram\":[{\"marker\":{\"pattern\":{\"fillmode\":\"overlay\",\"size\":10,\"solidity\":0.2}},\"type\":\"histogram\"}],\"histogram2d\":[{\"colorbar\":{\"outlinewidth\":0,\"ticks\":\"\"},\"colorscale\":[[0.0,\"#0d0887\"],[0.1111111111111111,\"#46039f\"],[0.2222222222222222,\"#7201a8\"],[0.3333333333333333,\"#9c179e\"],[0.4444444444444444,\"#bd3786\"],[0.5555555555555556,\"#d8576b\"],[0.6666666666666666,\"#ed7953\"],[0.7777777777777778,\"#fb9f3a\"],[0.8888888888888888,\"#fdca26\"],[1.0,\"#f0f921\"]],\"type\":\"histogram2d\"}],\"histogram2dcontour\":[{\"colorbar\":{\"outlinewidth\":0,\"ticks\":\"\"},\"colorscale\":[[0.0,\"#0d0887\"],[0.1111111111111111,\"#46039f\"],[0.2222222222222222,\"#7201a8\"],[0.3333333333333333,\"#9c179e\"],[0.4444444444444444,\"#bd3786\"],[0.5555555555555556,\"#d8576b\"],[0.6666666666666666,\"#ed7953\"],[0.7777777777777778,\"#fb9f3a\"],[0.8888888888888888,\"#fdca26\"],[1.0,\"#f0f921\"]],\"type\":\"histogram2dcontour\"}],\"mesh3d\":[{\"colorbar\":{\"outlinewidth\":0,\"ticks\":\"\"},\"type\":\"mesh3d\"}],\"parcoords\":[{\"line\":{\"colorbar\":{\"outlinewidth\":0,\"ticks\":\"\"}},\"type\":\"parcoords\"}],\"pie\":[{\"automargin\":true,\"type\":\"pie\"}],\"scatter\":[{\"marker\":{\"colorbar\":{\"outlinewidth\":0,\"ticks\":\"\"}},\"type\":\"scatter\"}],\"scatter3d\":[{\"line\":{\"colorbar\":{\"outlinewidth\":0,\"ticks\":\"\"}},\"marker\":{\"colorbar\":{\"outlinewidth\":0,\"ticks\":\"\"}},\"type\":\"scatter3d\"}],\"scattercarpet\":[{\"marker\":{\"colorbar\":{\"outlinewidth\":0,\"ticks\":\"\"}},\"type\":\"scattercarpet\"}],\"scattergeo\":[{\"marker\":{\"colorbar\":{\"outlinewidth\":0,\"ticks\":\"\"}},\"type\":\"scattergeo\"}],\"scattergl\":[{\"marker\":{\"colorbar\":{\"outlinewidth\":0,\"ticks\":\"\"}},\"type\":\"scattergl\"}],\"scattermapbox\":[{\"marker\":{\"colorbar\":{\"outlinewidth\":0,\"ticks\":\"\"}},\"type\":\"scattermapbox\"}],\"scatterpolar\":[{\"marker\":{\"colorbar\":{\"outlinewidth\":0,\"ticks\":\"\"}},\"type\":\"scatterpolar\"}],\"scatterpolargl\":[{\"marker\":{\"colorbar\":{\"outlinewidth\":0,\"ticks\":\"\"}},\"type\":\"scatterpolargl\"}],\"scatterternary\":[{\"marker\":{\"colorbar\":{\"outlinewidth\":0,\"ticks\":\"\"}},\"type\":\"scatterternary\"}],\"surface\":[{\"colorbar\":{\"outlinewidth\":0,\"ticks\":\"\"},\"colorscale\":[[0.0,\"#0d0887\"],[0.1111111111111111,\"#46039f\"],[0.2222222222222222,\"#7201a8\"],[0.3333333333333333,\"#9c179e\"],[0.4444444444444444,\"#bd3786\"],[0.5555555555555556,\"#d8576b\"],[0.6666666666666666,\"#ed7953\"],[0.7777777777777778,\"#fb9f3a\"],[0.8888888888888888,\"#fdca26\"],[1.0,\"#f0f921\"]],\"type\":\"surface\"}],\"table\":[{\"cells\":{\"fill\":{\"color\":\"#EBF0F8\"},\"line\":{\"color\":\"white\"}},\"header\":{\"fill\":{\"color\":\"#C8D4E3\"},\"line\":{\"color\":\"white\"}},\"type\":\"table\"}]},\"layout\":{\"annotationdefaults\":{\"arrowcolor\":\"#2a3f5f\",\"arrowhead\":0,\"arrowwidth\":1},\"autotypenumbers\":\"strict\",\"coloraxis\":{\"colorbar\":{\"outlinewidth\":0,\"ticks\":\"\"}},\"colorscale\":{\"diverging\":[[0,\"#8e0152\"],[0.1,\"#c51b7d\"],[0.2,\"#de77ae\"],[0.3,\"#f1b6da\"],[0.4,\"#fde0ef\"],[0.5,\"#f7f7f7\"],[0.6,\"#e6f5d0\"],[0.7,\"#b8e186\"],[0.8,\"#7fbc41\"],[0.9,\"#4d9221\"],[1,\"#276419\"]],\"sequential\":[[0.0,\"#0d0887\"],[0.1111111111111111,\"#46039f\"],[0.2222222222222222,\"#7201a8\"],[0.3333333333333333,\"#9c179e\"],[0.4444444444444444,\"#bd3786\"],[0.5555555555555556,\"#d8576b\"],[0.6666666666666666,\"#ed7953\"],[0.7777777777777778,\"#fb9f3a\"],[0.8888888888888888,\"#fdca26\"],[1.0,\"#f0f921\"]],\"sequentialminus\":[[0.0,\"#0d0887\"],[0.1111111111111111,\"#46039f\"],[0.2222222222222222,\"#7201a8\"],[0.3333333333333333,\"#9c179e\"],[0.4444444444444444,\"#bd3786\"],[0.5555555555555556,\"#d8576b\"],[0.6666666666666666,\"#ed7953\"],[0.7777777777777778,\"#fb9f3a\"],[0.8888888888888888,\"#fdca26\"],[1.0,\"#f0f921\"]]},\"colorway\":[\"#636efa\",\"#EF553B\",\"#00cc96\",\"#ab63fa\",\"#FFA15A\",\"#19d3f3\",\"#FF6692\",\"#B6E880\",\"#FF97FF\",\"#FECB52\"],\"font\":{\"color\":\"#2a3f5f\"},\"geo\":{\"bgcolor\":\"white\",\"lakecolor\":\"white\",\"landcolor\":\"#E5ECF6\",\"showlakes\":true,\"showland\":true,\"subunitcolor\":\"white\"},\"hoverlabel\":{\"align\":\"left\"},\"hovermode\":\"closest\",\"mapbox\":{\"style\":\"light\"},\"paper_bgcolor\":\"white\",\"plot_bgcolor\":\"#E5ECF6\",\"polar\":{\"angularaxis\":{\"gridcolor\":\"white\",\"linecolor\":\"white\",\"ticks\":\"\"},\"bgcolor\":\"#E5ECF6\",\"radialaxis\":{\"gridcolor\":\"white\",\"linecolor\":\"white\",\"ticks\":\"\"}},\"scene\":{\"xaxis\":{\"backgroundcolor\":\"#E5ECF6\",\"gridcolor\":\"white\",\"gridwidth\":2,\"linecolor\":\"white\",\"showbackground\":true,\"ticks\":\"\",\"zerolinecolor\":\"white\"},\"yaxis\":{\"backgroundcolor\":\"#E5ECF6\",\"gridcolor\":\"white\",\"gridwidth\":2,\"linecolor\":\"white\",\"showbackground\":true,\"ticks\":\"\",\"zerolinecolor\":\"white\"},\"zaxis\":{\"backgroundcolor\":\"#E5ECF6\",\"gridcolor\":\"white\",\"gridwidth\":2,\"linecolor\":\"white\",\"showbackground\":true,\"ticks\":\"\",\"zerolinecolor\":\"white\"}},\"shapedefaults\":{\"line\":{\"color\":\"#2a3f5f\"}},\"ternary\":{\"aaxis\":{\"gridcolor\":\"white\",\"linecolor\":\"white\",\"ticks\":\"\"},\"baxis\":{\"gridcolor\":\"white\",\"linecolor\":\"white\",\"ticks\":\"\"},\"bgcolor\":\"#E5ECF6\",\"caxis\":{\"gridcolor\":\"white\",\"linecolor\":\"white\",\"ticks\":\"\"}},\"title\":{\"x\":0.05},\"xaxis\":{\"automargin\":true,\"gridcolor\":\"white\",\"linecolor\":\"white\",\"ticks\":\"\",\"title\":{\"standoff\":15},\"zerolinecolor\":\"white\",\"zerolinewidth\":2},\"yaxis\":{\"automargin\":true,\"gridcolor\":\"white\",\"linecolor\":\"white\",\"ticks\":\"\",\"title\":{\"standoff\":15},\"zerolinecolor\":\"white\",\"zerolinewidth\":2}}},\"legend\":{\"tracegroupgap\":0},\"margin\":{\"t\":60}},                        {\"responsive\": true}                    ).then(function(){\n",
              "                            \n",
              "var gd = document.getElementById('6516ebcf-2562-4f44-8ddf-2447a4c43240');\n",
              "var x = new MutationObserver(function (mutations, observer) {{\n",
              "        var display = window.getComputedStyle(gd).display;\n",
              "        if (!display || display === 'none') {{\n",
              "            console.log([gd, 'removed!']);\n",
              "            Plotly.purge(gd);\n",
              "            observer.disconnect();\n",
              "        }}\n",
              "}});\n",
              "\n",
              "// Listen for the removal of the full notebook cells\n",
              "var notebookContainer = gd.closest('#notebook-container');\n",
              "if (notebookContainer) {{\n",
              "    x.observe(notebookContainer, {childList: true});\n",
              "}}\n",
              "\n",
              "// Listen for the clearing of the current output cell\n",
              "var outputEl = gd.closest('.output');\n",
              "if (outputEl) {{\n",
              "    x.observe(outputEl, {childList: true});\n",
              "}}\n",
              "\n",
              "                        })                };                            </script>        </div>\n",
              "</body>\n",
              "</html>"
            ]
          },
          "metadata": {}
        }
      ]
    },
    {
      "cell_type": "code",
      "source": [
        "\n",
        "px.pie(df,names=(\"Education_Level\"))"
      ],
      "metadata": {
        "colab": {
          "base_uri": "https://localhost:8080/",
          "height": 542
        },
        "id": "O68Dk03G9ezh",
        "outputId": "db6b9328-4c89-47ff-8d17-c0d6cb85af72"
      },
      "execution_count": null,
      "outputs": [
        {
          "output_type": "display_data",
          "data": {
            "text/html": [
              "<html>\n",
              "<head><meta charset=\"utf-8\" /></head>\n",
              "<body>\n",
              "    <div>            <script src=\"https://cdnjs.cloudflare.com/ajax/libs/mathjax/2.7.5/MathJax.js?config=TeX-AMS-MML_SVG\"></script><script type=\"text/javascript\">if (window.MathJax) {MathJax.Hub.Config({SVG: {font: \"STIX-Web\"}});}</script>                <script type=\"text/javascript\">window.PlotlyConfig = {MathJaxConfig: 'local'};</script>\n",
              "        <script src=\"https://cdn.plot.ly/plotly-2.8.3.min.js\"></script>                <div id=\"a04f7dd7-e23e-44f3-b13a-213a2ec4cf56\" class=\"plotly-graph-div\" style=\"height:525px; width:100%;\"></div>            <script type=\"text/javascript\">                                    window.PLOTLYENV=window.PLOTLYENV || {};                                    if (document.getElementById(\"a04f7dd7-e23e-44f3-b13a-213a2ec4cf56\")) {                    Plotly.newPlot(                        \"a04f7dd7-e23e-44f3-b13a-213a2ec4cf56\",                        [{\"domain\":{\"x\":[0.0,1.0],\"y\":[0.0,1.0]},\"hovertemplate\":\"Education_Level=%{label}<extra></extra>\",\"labels\":[\"Unknown\",\"Uneducated\",\"College\",\"High School\",\"Graduate\",\"Post-Graduate\",\"High School\",\"Graduate\",\"Uneducated\",\"Unknown\",\"Doctorate\",\"Uneducated\",\"High School\",\"Uneducated\",\"Uneducated\",\"Graduate\",\"Graduate\",\"High School\",\"Graduate\",\"Post-Graduate\"],\"legendgroup\":\"\",\"name\":\"\",\"showlegend\":true,\"type\":\"pie\"}],                        {\"template\":{\"data\":{\"bar\":[{\"error_x\":{\"color\":\"#2a3f5f\"},\"error_y\":{\"color\":\"#2a3f5f\"},\"marker\":{\"line\":{\"color\":\"#E5ECF6\",\"width\":0.5},\"pattern\":{\"fillmode\":\"overlay\",\"size\":10,\"solidity\":0.2}},\"type\":\"bar\"}],\"barpolar\":[{\"marker\":{\"line\":{\"color\":\"#E5ECF6\",\"width\":0.5},\"pattern\":{\"fillmode\":\"overlay\",\"size\":10,\"solidity\":0.2}},\"type\":\"barpolar\"}],\"carpet\":[{\"aaxis\":{\"endlinecolor\":\"#2a3f5f\",\"gridcolor\":\"white\",\"linecolor\":\"white\",\"minorgridcolor\":\"white\",\"startlinecolor\":\"#2a3f5f\"},\"baxis\":{\"endlinecolor\":\"#2a3f5f\",\"gridcolor\":\"white\",\"linecolor\":\"white\",\"minorgridcolor\":\"white\",\"startlinecolor\":\"#2a3f5f\"},\"type\":\"carpet\"}],\"choropleth\":[{\"colorbar\":{\"outlinewidth\":0,\"ticks\":\"\"},\"type\":\"choropleth\"}],\"contour\":[{\"colorbar\":{\"outlinewidth\":0,\"ticks\":\"\"},\"colorscale\":[[0.0,\"#0d0887\"],[0.1111111111111111,\"#46039f\"],[0.2222222222222222,\"#7201a8\"],[0.3333333333333333,\"#9c179e\"],[0.4444444444444444,\"#bd3786\"],[0.5555555555555556,\"#d8576b\"],[0.6666666666666666,\"#ed7953\"],[0.7777777777777778,\"#fb9f3a\"],[0.8888888888888888,\"#fdca26\"],[1.0,\"#f0f921\"]],\"type\":\"contour\"}],\"contourcarpet\":[{\"colorbar\":{\"outlinewidth\":0,\"ticks\":\"\"},\"type\":\"contourcarpet\"}],\"heatmap\":[{\"colorbar\":{\"outlinewidth\":0,\"ticks\":\"\"},\"colorscale\":[[0.0,\"#0d0887\"],[0.1111111111111111,\"#46039f\"],[0.2222222222222222,\"#7201a8\"],[0.3333333333333333,\"#9c179e\"],[0.4444444444444444,\"#bd3786\"],[0.5555555555555556,\"#d8576b\"],[0.6666666666666666,\"#ed7953\"],[0.7777777777777778,\"#fb9f3a\"],[0.8888888888888888,\"#fdca26\"],[1.0,\"#f0f921\"]],\"type\":\"heatmap\"}],\"heatmapgl\":[{\"colorbar\":{\"outlinewidth\":0,\"ticks\":\"\"},\"colorscale\":[[0.0,\"#0d0887\"],[0.1111111111111111,\"#46039f\"],[0.2222222222222222,\"#7201a8\"],[0.3333333333333333,\"#9c179e\"],[0.4444444444444444,\"#bd3786\"],[0.5555555555555556,\"#d8576b\"],[0.6666666666666666,\"#ed7953\"],[0.7777777777777778,\"#fb9f3a\"],[0.8888888888888888,\"#fdca26\"],[1.0,\"#f0f921\"]],\"type\":\"heatmapgl\"}],\"histogram\":[{\"marker\":{\"pattern\":{\"fillmode\":\"overlay\",\"size\":10,\"solidity\":0.2}},\"type\":\"histogram\"}],\"histogram2d\":[{\"colorbar\":{\"outlinewidth\":0,\"ticks\":\"\"},\"colorscale\":[[0.0,\"#0d0887\"],[0.1111111111111111,\"#46039f\"],[0.2222222222222222,\"#7201a8\"],[0.3333333333333333,\"#9c179e\"],[0.4444444444444444,\"#bd3786\"],[0.5555555555555556,\"#d8576b\"],[0.6666666666666666,\"#ed7953\"],[0.7777777777777778,\"#fb9f3a\"],[0.8888888888888888,\"#fdca26\"],[1.0,\"#f0f921\"]],\"type\":\"histogram2d\"}],\"histogram2dcontour\":[{\"colorbar\":{\"outlinewidth\":0,\"ticks\":\"\"},\"colorscale\":[[0.0,\"#0d0887\"],[0.1111111111111111,\"#46039f\"],[0.2222222222222222,\"#7201a8\"],[0.3333333333333333,\"#9c179e\"],[0.4444444444444444,\"#bd3786\"],[0.5555555555555556,\"#d8576b\"],[0.6666666666666666,\"#ed7953\"],[0.7777777777777778,\"#fb9f3a\"],[0.8888888888888888,\"#fdca26\"],[1.0,\"#f0f921\"]],\"type\":\"histogram2dcontour\"}],\"mesh3d\":[{\"colorbar\":{\"outlinewidth\":0,\"ticks\":\"\"},\"type\":\"mesh3d\"}],\"parcoords\":[{\"line\":{\"colorbar\":{\"outlinewidth\":0,\"ticks\":\"\"}},\"type\":\"parcoords\"}],\"pie\":[{\"automargin\":true,\"type\":\"pie\"}],\"scatter\":[{\"marker\":{\"colorbar\":{\"outlinewidth\":0,\"ticks\":\"\"}},\"type\":\"scatter\"}],\"scatter3d\":[{\"line\":{\"colorbar\":{\"outlinewidth\":0,\"ticks\":\"\"}},\"marker\":{\"colorbar\":{\"outlinewidth\":0,\"ticks\":\"\"}},\"type\":\"scatter3d\"}],\"scattercarpet\":[{\"marker\":{\"colorbar\":{\"outlinewidth\":0,\"ticks\":\"\"}},\"type\":\"scattercarpet\"}],\"scattergeo\":[{\"marker\":{\"colorbar\":{\"outlinewidth\":0,\"ticks\":\"\"}},\"type\":\"scattergeo\"}],\"scattergl\":[{\"marker\":{\"colorbar\":{\"outlinewidth\":0,\"ticks\":\"\"}},\"type\":\"scattergl\"}],\"scattermapbox\":[{\"marker\":{\"colorbar\":{\"outlinewidth\":0,\"ticks\":\"\"}},\"type\":\"scattermapbox\"}],\"scatterpolar\":[{\"marker\":{\"colorbar\":{\"outlinewidth\":0,\"ticks\":\"\"}},\"type\":\"scatterpolar\"}],\"scatterpolargl\":[{\"marker\":{\"colorbar\":{\"outlinewidth\":0,\"ticks\":\"\"}},\"type\":\"scatterpolargl\"}],\"scatterternary\":[{\"marker\":{\"colorbar\":{\"outlinewidth\":0,\"ticks\":\"\"}},\"type\":\"scatterternary\"}],\"surface\":[{\"colorbar\":{\"outlinewidth\":0,\"ticks\":\"\"},\"colorscale\":[[0.0,\"#0d0887\"],[0.1111111111111111,\"#46039f\"],[0.2222222222222222,\"#7201a8\"],[0.3333333333333333,\"#9c179e\"],[0.4444444444444444,\"#bd3786\"],[0.5555555555555556,\"#d8576b\"],[0.6666666666666666,\"#ed7953\"],[0.7777777777777778,\"#fb9f3a\"],[0.8888888888888888,\"#fdca26\"],[1.0,\"#f0f921\"]],\"type\":\"surface\"}],\"table\":[{\"cells\":{\"fill\":{\"color\":\"#EBF0F8\"},\"line\":{\"color\":\"white\"}},\"header\":{\"fill\":{\"color\":\"#C8D4E3\"},\"line\":{\"color\":\"white\"}},\"type\":\"table\"}]},\"layout\":{\"annotationdefaults\":{\"arrowcolor\":\"#2a3f5f\",\"arrowhead\":0,\"arrowwidth\":1},\"autotypenumbers\":\"strict\",\"coloraxis\":{\"colorbar\":{\"outlinewidth\":0,\"ticks\":\"\"}},\"colorscale\":{\"diverging\":[[0,\"#8e0152\"],[0.1,\"#c51b7d\"],[0.2,\"#de77ae\"],[0.3,\"#f1b6da\"],[0.4,\"#fde0ef\"],[0.5,\"#f7f7f7\"],[0.6,\"#e6f5d0\"],[0.7,\"#b8e186\"],[0.8,\"#7fbc41\"],[0.9,\"#4d9221\"],[1,\"#276419\"]],\"sequential\":[[0.0,\"#0d0887\"],[0.1111111111111111,\"#46039f\"],[0.2222222222222222,\"#7201a8\"],[0.3333333333333333,\"#9c179e\"],[0.4444444444444444,\"#bd3786\"],[0.5555555555555556,\"#d8576b\"],[0.6666666666666666,\"#ed7953\"],[0.7777777777777778,\"#fb9f3a\"],[0.8888888888888888,\"#fdca26\"],[1.0,\"#f0f921\"]],\"sequentialminus\":[[0.0,\"#0d0887\"],[0.1111111111111111,\"#46039f\"],[0.2222222222222222,\"#7201a8\"],[0.3333333333333333,\"#9c179e\"],[0.4444444444444444,\"#bd3786\"],[0.5555555555555556,\"#d8576b\"],[0.6666666666666666,\"#ed7953\"],[0.7777777777777778,\"#fb9f3a\"],[0.8888888888888888,\"#fdca26\"],[1.0,\"#f0f921\"]]},\"colorway\":[\"#636efa\",\"#EF553B\",\"#00cc96\",\"#ab63fa\",\"#FFA15A\",\"#19d3f3\",\"#FF6692\",\"#B6E880\",\"#FF97FF\",\"#FECB52\"],\"font\":{\"color\":\"#2a3f5f\"},\"geo\":{\"bgcolor\":\"white\",\"lakecolor\":\"white\",\"landcolor\":\"#E5ECF6\",\"showlakes\":true,\"showland\":true,\"subunitcolor\":\"white\"},\"hoverlabel\":{\"align\":\"left\"},\"hovermode\":\"closest\",\"mapbox\":{\"style\":\"light\"},\"paper_bgcolor\":\"white\",\"plot_bgcolor\":\"#E5ECF6\",\"polar\":{\"angularaxis\":{\"gridcolor\":\"white\",\"linecolor\":\"white\",\"ticks\":\"\"},\"bgcolor\":\"#E5ECF6\",\"radialaxis\":{\"gridcolor\":\"white\",\"linecolor\":\"white\",\"ticks\":\"\"}},\"scene\":{\"xaxis\":{\"backgroundcolor\":\"#E5ECF6\",\"gridcolor\":\"white\",\"gridwidth\":2,\"linecolor\":\"white\",\"showbackground\":true,\"ticks\":\"\",\"zerolinecolor\":\"white\"},\"yaxis\":{\"backgroundcolor\":\"#E5ECF6\",\"gridcolor\":\"white\",\"gridwidth\":2,\"linecolor\":\"white\",\"showbackground\":true,\"ticks\":\"\",\"zerolinecolor\":\"white\"},\"zaxis\":{\"backgroundcolor\":\"#E5ECF6\",\"gridcolor\":\"white\",\"gridwidth\":2,\"linecolor\":\"white\",\"showbackground\":true,\"ticks\":\"\",\"zerolinecolor\":\"white\"}},\"shapedefaults\":{\"line\":{\"color\":\"#2a3f5f\"}},\"ternary\":{\"aaxis\":{\"gridcolor\":\"white\",\"linecolor\":\"white\",\"ticks\":\"\"},\"baxis\":{\"gridcolor\":\"white\",\"linecolor\":\"white\",\"ticks\":\"\"},\"bgcolor\":\"#E5ECF6\",\"caxis\":{\"gridcolor\":\"white\",\"linecolor\":\"white\",\"ticks\":\"\"}},\"title\":{\"x\":0.05},\"xaxis\":{\"automargin\":true,\"gridcolor\":\"white\",\"linecolor\":\"white\",\"ticks\":\"\",\"title\":{\"standoff\":15},\"zerolinecolor\":\"white\",\"zerolinewidth\":2},\"yaxis\":{\"automargin\":true,\"gridcolor\":\"white\",\"linecolor\":\"white\",\"ticks\":\"\",\"title\":{\"standoff\":15},\"zerolinecolor\":\"white\",\"zerolinewidth\":2}}},\"legend\":{\"tracegroupgap\":0},\"margin\":{\"t\":60}},                        {\"responsive\": true}                    ).then(function(){\n",
              "                            \n",
              "var gd = document.getElementById('a04f7dd7-e23e-44f3-b13a-213a2ec4cf56');\n",
              "var x = new MutationObserver(function (mutations, observer) {{\n",
              "        var display = window.getComputedStyle(gd).display;\n",
              "        if (!display || display === 'none') {{\n",
              "            console.log([gd, 'removed!']);\n",
              "            Plotly.purge(gd);\n",
              "            observer.disconnect();\n",
              "        }}\n",
              "}});\n",
              "\n",
              "// Listen for the removal of the full notebook cells\n",
              "var notebookContainer = gd.closest('#notebook-container');\n",
              "if (notebookContainer) {{\n",
              "    x.observe(notebookContainer, {childList: true});\n",
              "}}\n",
              "\n",
              "// Listen for the clearing of the current output cell\n",
              "var outputEl = gd.closest('.output');\n",
              "if (outputEl) {{\n",
              "    x.observe(outputEl, {childList: true});\n",
              "}}\n",
              "\n",
              "                        })                };                            </script>        </div>\n",
              "</body>\n",
              "</html>"
            ]
          },
          "metadata": {}
        }
      ]
    },
    {
      "cell_type": "markdown",
      "source": [
        "### Opsional (Nilai Plus)"
      ],
      "metadata": {
        "id": "rNiY6kMdQlqj"
      }
    },
    {
      "cell_type": "code",
      "source": [
        "# Buatlah visualisasi boxplot Credit Card Limit dengan Jenis Kelamin sebagai pemisahnya (color)\n",
        "sns.boxplot(data=df, x=\"Credit_Limit\", hue=\"Gender\")"
      ],
      "metadata": {
        "id": "S5YG0MSeQpKh",
        "colab": {
          "base_uri": "https://localhost:8080/",
          "height": 297
        },
        "outputId": "61b0ccf9-e291-46dc-d788-06ea5650b2ce"
      },
      "execution_count": null,
      "outputs": [
        {
          "output_type": "execute_result",
          "data": {
            "text/plain": [
              "<AxesSubplot:xlabel='Credit_Limit'>"
            ]
          },
          "metadata": {},
          "execution_count": 43
        },
        {
          "output_type": "display_data",
          "data": {
            "text/plain": [
              "<Figure size 432x288 with 1 Axes>"
            ],
            "image/png": "[encoded data removed]"
          },
          "metadata": {
            "needs_background": "light"
          }
        }
      ]
    },
    {
      "cell_type": "code",
      "source": [
        "# Buatlah visualisasi boxplot Credit Card Limit dengan Attrition Flag sebagai pemisahnya (color)\n",
        "sns.boxplot(data=df, x=\"Credit_Limit\", hue=\"Attrition_Flag\", color=\"orange\")"
      ],
      "metadata": {
        "id": "T1b84fGPQ4OZ",
        "colab": {
          "base_uri": "https://localhost:8080/",
          "height": 297
        },
        "outputId": "949bee75-9938-4a60-de46-3421cc2f32ec"
      },
      "execution_count": null,
      "outputs": [
        {
          "output_type": "execute_result",
          "data": {
            "text/plain": [
              "<AxesSubplot:xlabel='Credit_Limit'>"
            ]
          },
          "metadata": {},
          "execution_count": 44
        },
        {
          "output_type": "display_data",
          "data": {
            "text/plain": [
              "<Figure size 432x288 with 1 Axes>"
            ],
            "image/png": "[encoded data removed]"
          },
          "metadata": {
            "needs_background": "light"
          }
        }
      ]
    },
    {
      "cell_type": "code",
      "source": [
        "# Buatlah visualisasi boxplot Age dengan Attrition Flag sebagai pemisahnya (color)\n",
        "sns.boxplot(data=df, x=\"Customer_Age\",hue=\"Attrition_Flag\", color=\"purple\")"
      ],
      "metadata": {
        "id": "9VGH1FdjQ_i4",
        "colab": {
          "base_uri": "https://localhost:8080/",
          "height": 297
        },
        "outputId": "c872d9cf-278a-4d72-d779-6c60059ce22a"
      },
      "execution_count": null,
      "outputs": [
        {
          "output_type": "execute_result",
          "data": {
            "text/plain": [
              "<AxesSubplot:xlabel='Customer_Age'>"
            ]
          },
          "metadata": {},
          "execution_count": 54
        },
        {
          "output_type": "display_data",
          "data": {
            "text/plain": [
              "<Figure size 432x288 with 1 Axes>"
            ],
            "image/png": "[encoded data removed]"
          },
          "metadata": {
            "needs_background": "light"
          }
        }
      ]
    },
    {
      "cell_type": "code",
      "source": [
        "# Buatlah visualisasi countplot  Attrition Flag dengan jenis kelamin sebagai pemisahnya (color)\n",
        "# sns.countplot(data=df, x=\"Attrition_Flag\", y=\"Gender\", hue=\"Gender\")\n",
        "sns.countplot(data=df, x='Attrition_Flag',hue='Gender')"
      ],
      "metadata": {
        "id": "la57AyFrRG5y",
        "colab": {
          "base_uri": "https://localhost:8080/",
          "height": 297
        },
        "outputId": "763dd7d9-2eae-4e54-e8d1-4d1d10646f5b"
      },
      "execution_count": null,
      "outputs": [
        {
          "output_type": "execute_result",
          "data": {
            "text/plain": [
              "<AxesSubplot:xlabel='Attrition_Flag', ylabel='count'>"
            ]
          },
          "metadata": {},
          "execution_count": 5
        },
        {
          "output_type": "display_data",
          "data": {
            "text/plain": [
              "<Figure size 432x288 with 1 Axes>"
            ],
            "image/png": "[encoded data removed]"
          },
          "metadata": {
            "needs_background": "light"
          }
        }
      ]
    },
    {
      "cell_type": "code",
      "source": [
        "# Buatlah visualisasi heatmap untuk Setiap variabel numerik yang ada\n",
        "sns.heatmap(\n",
        "    df[['Customer_Age', 'Credit_Limit','CLIENTNUM','Unnamed: 0']].corr(),\n",
        "    annot=True,\n",
        "    center=0,\n",
        ");"
      ],
      "metadata": {
        "id": "BmcfGNL1Rdb_",
        "colab": {
          "base_uri": "https://localhost:8080/",
          "height": 342
        },
        "outputId": "26ffab88-c586-4582-b916-37ac492e5b49"
      },
      "execution_count": null,
      "outputs": [
        {
          "output_type": "display_data",
          "data": {
            "text/plain": [
              "<Figure size 432x288 with 2 Axes>"
            ],
            "image/png": "[encoded data removed]"
          },
          "metadata": {}
        }
      ]
    },
    {
      "cell_type": "markdown",
      "source": [
        "## Algoritma Naive Bayes dan Preprocessing (pengenalan)"
      ],
      "metadata": {
        "id": "2W-0dXGMRm5g"
      }
    },
    {
      "cell_type": "code",
      "source": [
        "# sebelum membuat algoritma pertama tama buatlah dataset baru dengan ketentuan\n",
        "# mengambil dataset df\n",
        "# Menghapus kolom Unnamed: 0, CLIENTNUM, Umur, dan Limit Kartu Kredit (initinya yang berupa primary key dan bukan tipe kategori)\n",
        "# dataset dengan kolom yang sudah dihapus tadi kemudian disimpan di dataframe baru (df baru)\n",
        "\n",
        "df_baru = df.drop(columns=['Unnamed: 0','CLIENTNUM','Customer_Age','Credit_Limit'], axis=1)\n",
        "df_baru\n"
      ],
      "metadata": {
        "id": "dr9RJsatR35G",
        "colab": {
          "base_uri": "https://localhost:8080/",
          "height": 676
        },
        "outputId": "6198c89c-213e-48de-8f31-050424147216"
      },
      "execution_count": 5,
      "outputs": [
        {
          "output_type": "execute_result",
          "data": {
            "text/plain": [
              "       Attrition_Flag Gender Education_Level Marital_Status Income_Category  \\\n",
              "0   Attrited Customer      M         Unknown         Single     $40K - $60K   \n",
              "1   Attrited Customer      M      Uneducated        Married     $60K - $80K   \n",
              "2   Attrited Customer      M         College         Single    $80K - $120K   \n",
              "3   Attrited Customer      M     High School        Unknown         $120K +   \n",
              "4   Attrited Customer      F        Graduate         Single  Less than $40K   \n",
              "5   Attrited Customer      M   Post-Graduate        Unknown    $80K - $120K   \n",
              "6   Attrited Customer      M     High School         Single     $60K - $80K   \n",
              "7   Attrited Customer      F        Graduate         Single  Less than $40K   \n",
              "8   Attrited Customer      F      Uneducated        Married         Unknown   \n",
              "9   Attrited Customer      M         Unknown         Single    $80K - $120K   \n",
              "10  Existing Customer      M       Doctorate         Single     $60K - $80K   \n",
              "11  Existing Customer      M      Uneducated        Married    $80K - $120K   \n",
              "12  Existing Customer      F     High School        Married         Unknown   \n",
              "13  Existing Customer      M      Uneducated         Single     $60K - $80K   \n",
              "14  Existing Customer      F      Uneducated         Single         Unknown   \n",
              "15  Existing Customer      F        Graduate        Married  Less than $40K   \n",
              "16  Existing Customer      F        Graduate        Married  Less than $40K   \n",
              "17  Existing Customer      F     High School         Single  Less than $40K   \n",
              "18  Existing Customer      M        Graduate         Single     $60K - $80K   \n",
              "19  Existing Customer      F   Post-Graduate        Married         Unknown   \n",
              "\n",
              "   Card_Category  \n",
              "0           Blue  \n",
              "1           Blue  \n",
              "2           Blue  \n",
              "3           Blue  \n",
              "4           Blue  \n",
              "5           Blue  \n",
              "6           Blue  \n",
              "7           Blue  \n",
              "8           Blue  \n",
              "9           Blue  \n",
              "10          Blue  \n",
              "11          Blue  \n",
              "12          Blue  \n",
              "13          Blue  \n",
              "14          Blue  \n",
              "15          Blue  \n",
              "16          Blue  \n",
              "17          Blue  \n",
              "18          Blue  \n",
              "19          Blue  "
            ],
            "text/html": [
              "\n",
              "  <div id=\"df-9942bc8e-5f3d-4f72-8923-8b8f11958d4e\">\n",
              "    <div class=\"colab-df-container\">\n",
              "      <div>\n",
              "<style scoped>\n",
              "    .dataframe tbody tr th:only-of-type {\n",
              "        vertical-align: middle;\n",
              "    }\n",
              "\n",
              "    .dataframe tbody tr th {\n",
              "        vertical-align: top;\n",
              "    }\n",
              "\n",
              "    .dataframe thead th {\n",
              "        text-align: right;\n",
              "    }\n",
              "</style>\n",
              "<table border=\"1\" class=\"dataframe\">\n",
              "  <thead>\n",
              "    <tr style=\"text-align: right;\">\n",
              "      <th></th>\n",
              "      <th>Attrition_Flag</th>\n",
              "      <th>Gender</th>\n",
              "      <th>Education_Level</th>\n",
              "      <th>Marital_Status</th>\n",
              "      <th>Income_Category</th>\n",
              "      <th>Card_Category</th>\n",
              "    </tr>\n",
              "  </thead>\n",
              "  <tbody>\n",
              "    <tr>\n",
              "      <th>0</th>\n",
              "      <td>Attrited Customer</td>\n",
              "      <td>M</td>\n",
              "      <td>Unknown</td>\n",
              "      <td>Single</td>\n",
              "      <td>$40K - $60K</td>\n",
              "      <td>Blue</td>\n",
              "    </tr>\n",
              "    <tr>\n",
              "      <th>1</th>\n",
              "      <td>Attrited Customer</td>\n",
              "      <td>M</td>\n",
              "      <td>Uneducated</td>\n",
              "      <td>Married</td>\n",
              "      <td>$60K - $80K</td>\n",
              "      <td>Blue</td>\n",
              "    </tr>\n",
              "    <tr>\n",
              "      <th>2</th>\n",
              "      <td>Attrited Customer</td>\n",
              "      <td>M</td>\n",
              "      <td>College</td>\n",
              "      <td>Single</td>\n",
              "      <td>$80K - $120K</td>\n",
              "      <td>Blue</td>\n",
              "    </tr>\n",
              "    <tr>\n",
              "      <th>3</th>\n",
              "      <td>Attrited Customer</td>\n",
              "      <td>M</td>\n",
              "      <td>High School</td>\n",
              "      <td>Unknown</td>\n",
              "      <td>$120K +</td>\n",
              "      <td>Blue</td>\n",
              "    </tr>\n",
              "    <tr>\n",
              "      <th>4</th>\n",
              "      <td>Attrited Customer</td>\n",
              "      <td>F</td>\n",
              "      <td>Graduate</td>\n",
              "      <td>Single</td>\n",
              "      <td>Less than $40K</td>\n",
              "      <td>Blue</td>\n",
              "    </tr>\n",
              "    <tr>\n",
              "      <th>5</th>\n",
              "      <td>Attrited Customer</td>\n",
              "      <td>M</td>\n",
              "      <td>Post-Graduate</td>\n",
              "      <td>Unknown</td>\n",
              "      <td>$80K - $120K</td>\n",
              "      <td>Blue</td>\n",
              "    </tr>\n",
              "    <tr>\n",
              "      <th>6</th>\n",
              "      <td>Attrited Customer</td>\n",
              "      <td>M</td>\n",
              "      <td>High School</td>\n",
              "      <td>Single</td>\n",
              "      <td>$60K - $80K</td>\n",
              "      <td>Blue</td>\n",
              "    </tr>\n",
              "    <tr>\n",
              "      <th>7</th>\n",
              "      <td>Attrited Customer</td>\n",
              "      <td>F</td>\n",
              "      <td>Graduate</td>\n",
              "      <td>Single</td>\n",
              "      <td>Less than $40K</td>\n",
              "      <td>Blue</td>\n",
              "    </tr>\n",
              "    <tr>\n",
              "      <th>8</th>\n",
              "      <td>Attrited Customer</td>\n",
              "      <td>F</td>\n",
              "      <td>Uneducated</td>\n",
              "      <td>Married</td>\n",
              "      <td>Unknown</td>\n",
              "      <td>Blue</td>\n",
              "    </tr>\n",
              "    <tr>\n",
              "      <th>9</th>\n",
              "      <td>Attrited Customer</td>\n",
              "      <td>M</td>\n",
              "      <td>Unknown</td>\n",
              "      <td>Single</td>\n",
              "      <td>$80K - $120K</td>\n",
              "      <td>Blue</td>\n",
              "    </tr>\n",
              "    <tr>\n",
              "      <th>10</th>\n",
              "      <td>Existing Customer</td>\n",
              "      <td>M</td>\n",
              "      <td>Doctorate</td>\n",
              "      <td>Single</td>\n",
              "      <td>$60K - $80K</td>\n",
              "      <td>Blue</td>\n",
              "    </tr>\n",
              "    <tr>\n",
              "      <th>11</th>\n",
              "      <td>Existing Customer</td>\n",
              "      <td>M</td>\n",
              "      <td>Uneducated</td>\n",
              "      <td>Married</td>\n",
              "      <td>$80K - $120K</td>\n",
              "      <td>Blue</td>\n",
              "    </tr>\n",
              "    <tr>\n",
              "      <th>12</th>\n",
              "      <td>Existing Customer</td>\n",
              "      <td>F</td>\n",
              "      <td>High School</td>\n",
              "      <td>Married</td>\n",
              "      <td>Unknown</td>\n",
              "      <td>Blue</td>\n",
              "    </tr>\n",
              "    <tr>\n",
              "      <th>13</th>\n",
              "      <td>Existing Customer</td>\n",
              "      <td>M</td>\n",
              "      <td>Uneducated</td>\n",
              "      <td>Single</td>\n",
              "      <td>$60K - $80K</td>\n",
              "      <td>Blue</td>\n",
              "    </tr>\n",
              "    <tr>\n",
              "      <th>14</th>\n",
              "      <td>Existing Customer</td>\n",
              "      <td>F</td>\n",
              "      <td>Uneducated</td>\n",
              "      <td>Single</td>\n",
              "      <td>Unknown</td>\n",
              "      <td>Blue</td>\n",
              "    </tr>\n",
              "    <tr>\n",
              "      <th>15</th>\n",
              "      <td>Existing Customer</td>\n",
              "      <td>F</td>\n",
              "      <td>Graduate</td>\n",
              "      <td>Married</td>\n",
              "      <td>Less than $40K</td>\n",
              "      <td>Blue</td>\n",
              "    </tr>\n",
              "    <tr>\n",
              "      <th>16</th>\n",
              "      <td>Existing Customer</td>\n",
              "      <td>F</td>\n",
              "      <td>Graduate</td>\n",
              "      <td>Married</td>\n",
              "      <td>Less than $40K</td>\n",
              "      <td>Blue</td>\n",
              "    </tr>\n",
              "    <tr>\n",
              "      <th>17</th>\n",
              "      <td>Existing Customer</td>\n",
              "      <td>F</td>\n",
              "      <td>High School</td>\n",
              "      <td>Single</td>\n",
              "      <td>Less than $40K</td>\n",
              "      <td>Blue</td>\n",
              "    </tr>\n",
              "    <tr>\n",
              "      <th>18</th>\n",
              "      <td>Existing Customer</td>\n",
              "      <td>M</td>\n",
              "      <td>Graduate</td>\n",
              "      <td>Single</td>\n",
              "      <td>$60K - $80K</td>\n",
              "      <td>Blue</td>\n",
              "    </tr>\n",
              "    <tr>\n",
              "      <th>19</th>\n",
              "      <td>Existing Customer</td>\n",
              "      <td>F</td>\n",
              "      <td>Post-Graduate</td>\n",
              "      <td>Married</td>\n",
              "      <td>Unknown</td>\n",
              "      <td>Blue</td>\n",
              "    </tr>\n",
              "  </tbody>\n",
              "</table>\n",
              "</div>\n",
              "      <button class=\"colab-df-convert\" onclick=\"convertToInteractive('df-9942bc8e-5f3d-4f72-8923-8b8f11958d4e')\"\n",
              "              title=\"Convert this dataframe to an interactive table.\"\n",
              "              style=\"display:none;\">\n",
              "        \n",
              "  <svg xmlns=\"http://www.w3.org/2000/svg\" height=\"24px\"viewBox=\"0 0 24 24\"\n",
              "       width=\"24px\">\n",
              "    <path d=\"M0 0h24v24H0V0z\" fill=\"none\"/>\n",
              "    <path d=\"M18.56 5.44l.94 2.06.94-2.06 2.06-.94-2.06-.94-.94-2.06-.94 2.06-2.06.94zm-11 1L8.5 8.5l.94-2.06 2.06-.94-2.06-.94L8.5 2.5l-.94 2.06-2.06.94zm10 10l.94 2.06.94-2.06 2.06-.94-2.06-.94-.94-2.06-.94 2.06-2.06.94z\"/><path d=\"M17.41 7.96l-1.37-1.37c-.4-.4-.92-.59-1.43-.59-.52 0-1.04.2-1.43.59L10.3 9.45l-7.72 7.72c-.78.78-.78 2.05 0 2.83L4 21.41c.39.39.9.59 1.41.59.51 0 1.02-.2 1.41-.59l7.78-7.78 2.81-2.81c.8-.78.8-2.07 0-2.86zM5.41 20L4 18.59l7.72-7.72 1.47 1.35L5.41 20z\"/>\n",
              "  </svg>\n",
              "      </button>\n",
              "      \n",
              "  <style>\n",
              "    .colab-df-container {\n",
              "      display:flex;\n",
              "      flex-wrap:wrap;\n",
              "      gap: 12px;\n",
              "    }\n",
              "\n",
              "    .colab-df-convert {\n",
              "      background-color: #E8F0FE;\n",
              "      border: none;\n",
              "      border-radius: 50%;\n",
              "      cursor: pointer;\n",
              "      display: none;\n",
              "      fill: #1967D2;\n",
              "      height: 32px;\n",
              "      padding: 0 0 0 0;\n",
              "      width: 32px;\n",
              "    }\n",
              "\n",
              "    .colab-df-convert:hover {\n",
              "      background-color: #E2EBFA;\n",
              "      box-shadow: 0px 1px 2px rgba(60, 64, 67, 0.3), 0px 1px 3px 1px rgba(60, 64, 67, 0.15);\n",
              "      fill: #174EA6;\n",
              "    }\n",
              "\n",
              "    [theme=dark] .colab-df-convert {\n",
              "      background-color: #3B4455;\n",
              "      fill: #D2E3FC;\n",
              "    }\n",
              "\n",
              "    [theme=dark] .colab-df-convert:hover {\n",
              "      background-color: #434B5C;\n",
              "      box-shadow: 0px 1px 3px 1px rgba(0, 0, 0, 0.15);\n",
              "      filter: drop-shadow(0px 1px 2px rgba(0, 0, 0, 0.3));\n",
              "      fill: #FFFFFF;\n",
              "    }\n",
              "  </style>\n",
              "\n",
              "      <script>\n",
              "        const buttonEl =\n",
              "          document.querySelector('#df-9942bc8e-5f3d-4f72-8923-8b8f11958d4e button.colab-df-convert');\n",
              "        buttonEl.style.display =\n",
              "          google.colab.kernel.accessAllowed ? 'block' : 'none';\n",
              "\n",
              "        async function convertToInteractive(key) {\n",
              "          const element = document.querySelector('#df-9942bc8e-5f3d-4f72-8923-8b8f11958d4e');\n",
              "          const dataTable =\n",
              "            await google.colab.kernel.invokeFunction('convertToInteractive',\n",
              "                                                     [key], {});\n",
              "          if (!dataTable) return;\n",
              "\n",
              "          const docLinkHtml = 'Like what you see? Visit the ' +\n",
              "            '<a target=\"_blank\" href=https://colab.research.google.com/notebooks/data_table.ipynb>data table notebook</a>'\n",
              "            + ' to learn more about interactive tables.';\n",
              "          element.innerHTML = '';\n",
              "          dataTable['output_type'] = 'display_data';\n",
              "          await google.colab.output.renderOutput(dataTable, element);\n",
              "          const docLink = document.createElement('div');\n",
              "          docLink.innerHTML = docLinkHtml;\n",
              "          element.appendChild(docLink);\n",
              "        }\n",
              "      </script>\n",
              "    </div>\n",
              "  </div>\n",
              "  "
            ]
          },
          "metadata": {},
          "execution_count": 5
        }
      ]
    },
    {
      "cell_type": "code",
      "source": [
        "#==========SOAL===========\n",
        "# Mengambil 1 saja parameter yaitu sebuah list berisi kategori\n",
        "\n",
        "# Outputnya berupa prediksi Attrited Customer atau Existing Customer\n",
        "# Outputnya berupa tuple (_hasilnya, persentasenya berapa) contoh (Existing Customer, 0.004)\n",
        "\n",
        "# ====ALGORITMA====\n",
        "def naive_bayes(prediksi:list)-> tuple :\n",
        "    attrited = df_baru[df_baru[\"Attrition_Flag\"]==\"Attrited Customer\"]\n",
        "    existing = df_baru[df_baru[\"Attrition_Flag\"]==\"Existing Customer\"]\n",
        "    \n",
        "    #prior probability -> menghitung nilai peluang kasus\n",
        "    #len(attrited) dan len(existing) adalah banyak kasus\n",
        "    #len(df_baru) adalah jumlah seluruh kasus\n",
        "    attrited_prior = len(attrited) / len(df_baru) \n",
        "    existing_prior = len(existing) / len(df_baru) \n",
        "    \n",
        "    #likelihood -> kemungkinan\n",
        "    #menghitung P(XK|Ci) setiap index kelas\n",
        "    for i in range(len(prediksi)):\n",
        "        attrited_subset = attrited[attrited.iloc[:,i]==prediksi[i]]\n",
        "        existing_subset = existing[existing.iloc[:,i]==prediksi[i]]\n",
        "        \n",
        "        attrited_posterior = (len(attrited_subset) + 1) / (len(attrited) + len(df_baru.iloc[:,i].unique()))\n",
        "        existing_posterior = (len(existing_subset) + 1) / (len(existing) + len(df_baru.iloc[:,i].unique()))\n",
        "        \n",
        "        #menghitung nilai akumulasi dari setiap kelas atau P(X|Ci)\n",
        "        #jika terdapat nilai/index yang nol, maka nilainya akan tetap sama\n",
        "        if i == 0:\n",
        "            attrited_likelihood = attrited_posterior\n",
        "            existing_likelihood = existing_posterior\n",
        "        #jika tidak, maka akan dikalikan\n",
        "        else:\n",
        "            attrited_likelihood *= attrited_posterior\n",
        "            existing_likelihood *= existing_posterior\n",
        "    \n",
        "    #posterior probability -> P(X|Ci)*P(Ci) atau menghitung peluang kasus dengan label/kelas yang sama\n",
        "    attrited_posterior = attrited_prior * attrited_likelihood\n",
        "    existing_posterior = existing_prior * existing_likelihood\n",
        "    \n",
        "    #normalize posterior probability -> menentukan kelas \n",
        "    #menentukan presentase dengan membagi peluang kasus existing dengan total seluruh peluang\n",
        "    persentasenya = existing_posterior / (attrited_posterior + existing_posterior)\n",
        "    #jika presentase lebih besar atau sama dengan 0,5 maka masuk kelas Existing, jika tidak Attrited.\n",
        "    hasil = \"Existing Customer\" if persentasenya >= 0.5 else \"Attrited Customer\"\n",
        "    \n",
        "    return (hasil, persentasenya)\n",
        "\n",
        "\n"
      ],
      "metadata": {
        "id": "ojBKAY-FrNxd"
      },
      "execution_count": null,
      "outputs": []
    },
    {
      "cell_type": "code",
      "source": [
        "hasil = naive_bayes([\"F\", \"Uneducated\", \"Single\", \"Unknown\", \"Blue\"])\n",
        "print(hasil)"
      ],
      "metadata": {
        "colab": {
          "base_uri": "https://localhost:8080/"
        },
        "id": "lYqAvitzrr1L",
        "outputId": "c86c79e7-55ca-43d4-b841-de67966a2f75"
      },
      "execution_count": null,
      "outputs": [
        {
          "output_type": "stream",
          "name": "stdout",
          "text": [
            "('Attrited Customer', 0.25)\n"
          ]
        }
      ]
    }
  ]
}